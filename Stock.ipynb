{
  "cells": [
    {
      "cell_type": "markdown",
      "metadata": {
        "id": "7nps4wTiS1aR"
      },
      "source": [
        "yfinance => Python library that allows you to download historical market data from Yahoo Finance. It is commonly used for stock price analysis, time series forecasting, and financial modeling.\n",
        "\n"
      ]
    },
    {
      "cell_type": "code",
      "execution_count": 5,
      "metadata": {},
      "outputs": [
        {
          "name": "stdout",
          "output_type": "stream",
          "text": [
            "Requirement already satisfied: yfinance in c:\\users\\sakshi\\anaconda3\\envs\\tf_env\\lib\\site-packages (0.2.55)\n",
            "Requirement already satisfied: pandas>=1.3.0 in c:\\users\\sakshi\\anaconda3\\envs\\tf_env\\lib\\site-packages (from yfinance) (2.2.3)\n",
            "Requirement already satisfied: numpy>=1.16.5 in c:\\users\\sakshi\\anaconda3\\envs\\tf_env\\lib\\site-packages (from yfinance) (2.1.3)\n",
            "Requirement already satisfied: requests>=2.31 in c:\\users\\sakshi\\anaconda3\\envs\\tf_env\\lib\\site-packages (from yfinance) (2.32.3)\n",
            "Requirement already satisfied: multitasking>=0.0.7 in c:\\users\\sakshi\\anaconda3\\envs\\tf_env\\lib\\site-packages (from yfinance) (0.0.11)\n",
            "Requirement already satisfied: platformdirs>=2.0.0 in c:\\users\\sakshi\\anaconda3\\envs\\tf_env\\lib\\site-packages (from yfinance) (4.3.7)\n",
            "Requirement already satisfied: pytz>=2022.5 in c:\\users\\sakshi\\anaconda3\\envs\\tf_env\\lib\\site-packages (from yfinance) (2025.2)\n",
            "Requirement already satisfied: frozendict>=2.3.4 in c:\\users\\sakshi\\anaconda3\\envs\\tf_env\\lib\\site-packages (from yfinance) (2.4.6)\n",
            "Requirement already satisfied: peewee>=3.16.2 in c:\\users\\sakshi\\anaconda3\\envs\\tf_env\\lib\\site-packages (from yfinance) (3.17.9)\n",
            "Requirement already satisfied: beautifulsoup4>=4.11.1 in c:\\users\\sakshi\\anaconda3\\envs\\tf_env\\lib\\site-packages (from yfinance) (4.13.3)\n",
            "Requirement already satisfied: soupsieve>1.2 in c:\\users\\sakshi\\anaconda3\\envs\\tf_env\\lib\\site-packages (from beautifulsoup4>=4.11.1->yfinance) (2.6)\n",
            "Requirement already satisfied: typing-extensions>=4.0.0 in c:\\users\\sakshi\\anaconda3\\envs\\tf_env\\lib\\site-packages (from beautifulsoup4>=4.11.1->yfinance) (4.13.0)\n",
            "Requirement already satisfied: python-dateutil>=2.8.2 in c:\\users\\sakshi\\anaconda3\\envs\\tf_env\\lib\\site-packages (from pandas>=1.3.0->yfinance) (2.9.0.post0)\n",
            "Requirement already satisfied: tzdata>=2022.7 in c:\\users\\sakshi\\anaconda3\\envs\\tf_env\\lib\\site-packages (from pandas>=1.3.0->yfinance) (2025.2)\n",
            "Requirement already satisfied: charset-normalizer<4,>=2 in c:\\users\\sakshi\\anaconda3\\envs\\tf_env\\lib\\site-packages (from requests>=2.31->yfinance) (3.4.1)\n",
            "Requirement already satisfied: idna<4,>=2.5 in c:\\users\\sakshi\\anaconda3\\envs\\tf_env\\lib\\site-packages (from requests>=2.31->yfinance) (3.10)\n",
            "Requirement already satisfied: urllib3<3,>=1.21.1 in c:\\users\\sakshi\\anaconda3\\envs\\tf_env\\lib\\site-packages (from requests>=2.31->yfinance) (2.3.0)\n",
            "Requirement already satisfied: certifi>=2017.4.17 in c:\\users\\sakshi\\anaconda3\\envs\\tf_env\\lib\\site-packages (from requests>=2.31->yfinance) (2025.1.31)\n",
            "Requirement already satisfied: six>=1.5 in c:\\users\\sakshi\\appdata\\roaming\\python\\python310\\site-packages (from python-dateutil>=2.8.2->pandas>=1.3.0->yfinance) (1.16.0)\n"
          ]
        }
      ],
      "source": [
        "import sys\n",
        "!{sys.executable} -m pip install yfinance\n"
      ]
    },
    {
      "cell_type": "code",
      "execution_count": 6,
      "metadata": {
        "colab": {
          "base_uri": "https://localhost:8080/"
        },
        "id": "9K_1JCxvOmkM",
        "outputId": "ae9ff4b8-8104-43c8-cd7a-1bea01778213"
      },
      "outputs": [
        {
          "name": "stderr",
          "output_type": "stream",
          "text": [
            "[*********************100%***********************]  1 of 1 completed"
          ]
        },
        {
          "name": "stdout",
          "output_type": "stream",
          "text": [
            "Price           Close       High        Low       Open     Volume\n",
            "Ticker           AAPL       AAPL       AAPL       AAPL       AAPL\n",
            "Date                                                             \n",
            "2015-01-02  24.320423  24.789792  23.879972  24.778669  212818400\n",
            "2015-01-05  23.635284  24.169164  23.448427  24.089082  257142000\n",
            "2015-01-06  23.637506  23.897772  23.274912  23.699792  263188400\n",
            "2015-01-07  23.968962  24.069063  23.735389  23.846614  160423600\n",
            "2015-01-08  24.889910  24.947747  24.180294  24.298194  237458000\n"
          ]
        },
        {
          "name": "stderr",
          "output_type": "stream",
          "text": [
            "\n"
          ]
        }
      ],
      "source": [
        "\n",
        "\n",
        "import yfinance as yf\n",
        "\n",
        "# Download historical stock data (Example: AAPL - Apple)\n",
        "df = yf.download(\"AAPL\", start=\"2015-01-01\", end=\"2024-01-01\")\n",
        "\n",
        "# Display first few rows\n",
        "print(df.head())\n",
        "\n",
        "# Save dataset to CSV\n",
        "df.to_csv(\"AAPL_stock_data.csv\")\n"
      ]
    },
    {
      "cell_type": "code",
      "execution_count": 7,
      "metadata": {
        "colab": {
          "base_uri": "https://localhost:8080/"
        },
        "id": "etI3amL5S-ss",
        "outputId": "fd64e0c9-d04f-417f-972d-b870feac8df9"
      },
      "outputs": [
        {
          "name": "stdout",
          "output_type": "stream",
          "text": [
            "Price           Close       High        Low       Open     Volume\n",
            "Ticker           AAPL       AAPL       AAPL       AAPL       AAPL\n",
            "Date                                                             \n",
            "2015-01-02  24.320423  24.789792  23.879972  24.778669  212818400\n",
            "2015-01-05  23.635284  24.169164  23.448427  24.089082  257142000\n",
            "2015-01-06  23.637506  23.897772  23.274912  23.699792  263188400\n",
            "2015-01-07  23.968962  24.069063  23.735389  23.846614  160423600\n",
            "2015-01-08  24.889910  24.947747  24.180294  24.298194  237458000\n"
          ]
        }
      ],
      "source": [
        "print(df.head())"
      ]
    },
    {
      "cell_type": "markdown",
      "metadata": {
        "id": "zKLDyEGWTtwg"
      },
      "source": [
        "Open → Opening price\n",
        "\n",
        "High → Highest price of the day\n",
        "\n",
        "Low → Lowest price of the day\n",
        "\n",
        "Close → Closing price of the stock\n",
        "\n",
        "Adj Close → Adjusted closing price (removes stock splits)\n",
        "\n",
        "Volume → Total number of shares traded"
      ]
    },
    {
      "cell_type": "code",
      "execution_count": 8,
      "metadata": {
        "colab": {
          "base_uri": "https://localhost:8080/"
        },
        "id": "dY7MqQNHTqPG",
        "outputId": "9b7978ed-fda4-442f-f629-4db60b07c5ca"
      },
      "outputs": [
        {
          "name": "stdout",
          "output_type": "stream",
          "text": [
            "<class 'pandas.core.frame.DataFrame'>\n",
            "Index: 2266 entries, Ticker to 2023-12-29\n",
            "Data columns (total 5 columns):\n",
            " #   Column  Non-Null Count  Dtype \n",
            "---  ------  --------------  ----- \n",
            " 0   Close   2265 non-null   object\n",
            " 1   High    2265 non-null   object\n",
            " 2   Low     2265 non-null   object\n",
            " 3   Open    2265 non-null   object\n",
            " 4   Volume  2265 non-null   object\n",
            "dtypes: object(5)\n",
            "memory usage: 106.2+ KB\n",
            "None\n",
            "                         Close                High                 Low  \\\n",
            "Price                                                                    \n",
            "Ticker                    AAPL                AAPL                AAPL   \n",
            "Date                       NaN                 NaN                 NaN   \n",
            "2015-01-02  24.320423126220703  24.789792071440623  23.879972027478615   \n",
            "2015-01-05  23.635284423828125  24.169164129068307    23.4484274604303   \n",
            "2015-01-06   23.63750648498535   23.89777223644289  23.274912374186805   \n",
            "\n",
            "                          Open     Volume  \n",
            "Price                                      \n",
            "Ticker                    AAPL       AAPL  \n",
            "Date                       NaN        NaN  \n",
            "2015-01-02    24.7786689089419  212818400  \n",
            "2015-01-05   24.08908208842444  257142000  \n",
            "2015-01-06  23.699792131779642  263188400  \n"
          ]
        }
      ],
      "source": [
        "import pandas as pd\n",
        "import numpy as np\n",
        "\n",
        "# Load dataset\n",
        "df = pd.read_csv(\"AAPL_stock_data.csv\", index_col=0)\n",
        "\n",
        "# Display dataset info\n",
        "print(df.info())\n",
        "print(df.head())\n"
      ]
    },
    {
      "cell_type": "code",
      "execution_count": 9,
      "metadata": {
        "colab": {
          "base_uri": "https://localhost:8080/"
        },
        "id": "nP2p1ru6U6gt",
        "outputId": "dd036cb3-c2ab-42f6-f701-ef1feabe84ea"
      },
      "outputs": [
        {
          "name": "stdout",
          "output_type": "stream",
          "text": [
            "                Close       High        Low       Open     Volume\n",
            "Date                                                             \n",
            "2015-01-02  24.320423  24.789792  23.879972  24.778669  212818400\n",
            "2015-01-05  23.635284  24.169164  23.448427  24.089082  257142000\n",
            "2015-01-06  23.637506  23.897772  23.274912  23.699792  263188400\n",
            "2015-01-07  23.968962  24.069063  23.735389  23.846614  160423600\n",
            "2015-01-08  24.889910  24.947747  24.180294  24.298194  237458000\n",
            "<class 'pandas.core.frame.DataFrame'>\n",
            "DatetimeIndex: 2264 entries, 2015-01-02 to 2023-12-29\n",
            "Data columns (total 5 columns):\n",
            " #   Column  Non-Null Count  Dtype  \n",
            "---  ------  --------------  -----  \n",
            " 0   Close   2264 non-null   float64\n",
            " 1   High    2264 non-null   float64\n",
            " 2   Low     2264 non-null   float64\n",
            " 3   Open    2264 non-null   float64\n",
            " 4   Volume  2264 non-null   int64  \n",
            "dtypes: float64(4), int64(1)\n",
            "memory usage: 106.1 KB\n",
            "None\n"
          ]
        }
      ],
      "source": [
        "import pandas as pd\n",
        "\n",
        "# Load dataset, skipping the first 3 rows\n",
        "df = pd.read_csv(\"AAPL_stock_data.csv\", skiprows=3, header=None)\n",
        "\n",
        "# Manually define correct column names\n",
        "df.columns = [\"Date\", \"Close\", \"High\", \"Low\", \"Open\", \"Volume\"]\n",
        "\n",
        "# Convert 'Date' to datetime format (YYYY-MM-DD format detected)\n",
        "df[\"Date\"] = pd.to_datetime(df[\"Date\"], format=\"%Y-%m-%d\")\n",
        "\n",
        "# Set 'Date' as index\n",
        "df.set_index(\"Date\", inplace=True)\n",
        "\n",
        "# Display first few rows\n",
        "print(df.head())\n",
        "print(df.info())  # Check if Date is properly formatted\n"
      ]
    },
    {
      "cell_type": "code",
      "execution_count": 10,
      "metadata": {
        "colab": {
          "base_uri": "https://localhost:8080/"
        },
        "id": "wVj3oOOQWGCT",
        "outputId": "0db2fdcb-2a83-4f87-db77-d4f1512a702c"
      },
      "outputs": [
        {
          "name": "stdout",
          "output_type": "stream",
          "text": [
            "Close     0\n",
            "High      0\n",
            "Low       0\n",
            "Open      0\n",
            "Volume    0\n",
            "dtype: int64\n"
          ]
        }
      ],
      "source": [
        "# Check for missing values\n",
        "print(df.isnull().sum())\n",
        "\n",
        "# Fill missing values using forward fill\n",
        "#df.fillna(method='ffill', inplace=True)"
      ]
    },
    {
      "cell_type": "markdown",
      "metadata": {
        "id": "5_1TLd7CWTHJ"
      },
      "source": [
        "Feature Engineering (Add Technical Indicators)\n",
        "We will create 7 new features:\n",
        "\n",
        "✅ Moving Averages: 10-day, 50-day SMA\n",
        "\n",
        "✅ Exponential Moving Average (EMA)\n",
        "\n",
        "✅ Volatility: Rolling standard deviation\n",
        "\n",
        "✅ Relative Strength Index (RSI)\n",
        "\n",
        "✅ Moving Average Convergence Divergence (MACD)"
      ]
    },
    {
      "cell_type": "code",
      "execution_count": 11,
      "metadata": {
        "colab": {
          "base_uri": "https://localhost:8080/"
        },
        "id": "3scJ9kWdWGMc",
        "outputId": "74490671-8acf-4431-e0ce-7dca24ced343"
      },
      "outputs": [
        {
          "name": "stdout",
          "output_type": "stream",
          "text": [
            "                 Close        High         Low        Open    Volume  \\\n",
            "Date                                                                   \n",
            "2023-12-22  192.444580  194.243775  191.818335  194.015137  37122800   \n",
            "2023-12-26  191.897873  192.732856  191.679185  192.454528  28919300   \n",
            "2023-12-27  191.997269  192.345186  189.949565  191.341219  48087700   \n",
            "2023-12-28  192.424713  193.498269  192.017156  192.981369  34049900   \n",
            "2023-12-29  191.380951  193.239786  190.585722  192.742770  42628800   \n",
            "\n",
            "                SMA_10      SMA_50      EMA_10  Volatility        RSI  \\\n",
            "Date                                                                    \n",
            "2023-12-22  194.578770  184.200591  193.793832    1.799725  59.246149   \n",
            "2023-12-26  194.565851  184.487575  193.449112    1.820423  49.031984   \n",
            "2023-12-27  194.410780  184.779127  193.185141    1.976150  52.291541   \n",
            "2023-12-28  193.975395  185.110400  193.046881    1.873469  47.920482   \n",
            "2023-12-29  193.420723  185.446807  192.743985    1.716830  40.185209   \n",
            "\n",
            "                MACD  Signal_Line  \n",
            "Date                               \n",
            "2023-12-22  2.642146     3.246319  \n",
            "2023-12-26  2.312633     3.059582  \n",
            "2023-12-27  2.036042     2.854874  \n",
            "2023-12-28  1.830236     2.649946  \n",
            "2023-12-29  1.564871     2.432931  \n"
          ]
        }
      ],
      "source": [
        "# Moving Averages\n",
        "df[\"SMA_10\"] = df[\"Close\"].rolling(window=10).mean()\n",
        "df[\"SMA_50\"] = df[\"Close\"].rolling(window=50).mean()\n",
        "\n",
        "# Exponential Moving Average\n",
        "df[\"EMA_10\"] = df[\"Close\"].ewm(span=10, adjust=False).mean()\n",
        "\n",
        "# Volatility (Rolling Standard Deviation)\n",
        "df[\"Volatility\"] = df[\"Close\"].rolling(window=10).std()\n",
        "\n",
        "# Relative Strength Index (RSI)\n",
        "def compute_rsi(series, window=14):\n",
        "    delta = series.diff()\n",
        "    gain = (delta.where(delta > 0, 0)).rolling(window=window).mean()\n",
        "    loss = (-delta.where(delta < 0, 0)).rolling(window=window).mean()\n",
        "    rs = gain / loss\n",
        "    return 100 - (100 / (1 + rs))\n",
        "\n",
        "df[\"RSI\"] = compute_rsi(df[\"Close\"], 14)\n",
        "\n",
        "# MACD (Moving Average Convergence Divergence)\n",
        "df[\"EMA_12\"] = df[\"Close\"].ewm(span=12, adjust=False).mean()\n",
        "df[\"EMA_26\"] = df[\"Close\"].ewm(span=26, adjust=False).mean()\n",
        "df[\"MACD\"] = df[\"EMA_12\"] - df[\"EMA_26\"]\n",
        "df[\"Signal_Line\"] = df[\"MACD\"].ewm(span=9, adjust=False).mean()\n",
        "\n",
        "# Drop unnecessary columns\n",
        "df.drop(columns=[\"EMA_12\", \"EMA_26\"], inplace=True)\n",
        "\n",
        "print(df.tail())  # Check the new features\n"
      ]
    },
    {
      "cell_type": "code",
      "execution_count": 12,
      "metadata": {
        "colab": {
          "base_uri": "https://localhost:8080/"
        },
        "id": "h7b_SQKznRUA",
        "outputId": "bd9c8900-177c-4626-cf24-36324934e9f1"
      },
      "outputs": [
        {
          "name": "stdout",
          "output_type": "stream",
          "text": [
            "Training Size: 1772, Testing Size: 443\n"
          ]
        }
      ],
      "source": [
        "from sklearn.model_selection import train_test_split\n",
        "import numpy as np\n",
        "\n",
        "# Drop NaN values from feature engineering\n",
        "df.dropna(inplace=True)\n",
        "\n",
        "# Define Features and Target\n",
        "features = [\"Open\", \"High\", \"Low\", \"Volume\", \"SMA_10\", \"SMA_50\", \"EMA_10\", \"Volatility\", \"RSI\", \"MACD\", \"Signal_Line\"]\n",
        "target = \"Close\"\n",
        "\n",
        "X = df[features]\n",
        "y = df[target]\n",
        "\n",
        "# Train-Test Split (80-20)\n",
        "train_size = int(len(df) * 0.8)\n",
        "X_train, X_test = X.iloc[:train_size], X.iloc[train_size:]\n",
        "y_train, y_test = y.iloc[:train_size], y.iloc[train_size:]\n",
        "\n",
        "print(f\"Training Size: {len(X_train)}, Testing Size: {len(X_test)}\")\n"
      ]
    },
    {
      "cell_type": "code",
      "execution_count": 13,
      "metadata": {},
      "outputs": [
        {
          "name": "stdout",
          "output_type": "stream",
          "text": [
            "Requirement already satisfied: optuna in c:\\users\\sakshi\\anaconda3\\envs\\tf_env\\lib\\site-packages (4.2.1)\n",
            "Requirement already satisfied: alembic>=1.5.0 in c:\\users\\sakshi\\anaconda3\\envs\\tf_env\\lib\\site-packages (from optuna) (1.15.2)\n",
            "Requirement already satisfied: colorlog in c:\\users\\sakshi\\anaconda3\\envs\\tf_env\\lib\\site-packages (from optuna) (6.9.0)\n",
            "Requirement already satisfied: numpy in c:\\users\\sakshi\\anaconda3\\envs\\tf_env\\lib\\site-packages (from optuna) (2.1.3)\n",
            "Requirement already satisfied: packaging>=20.0 in c:\\users\\sakshi\\anaconda3\\envs\\tf_env\\lib\\site-packages (from optuna) (24.2)\n",
            "Requirement already satisfied: sqlalchemy>=1.4.2 in c:\\users\\sakshi\\anaconda3\\envs\\tf_env\\lib\\site-packages (from optuna) (2.0.40)\n",
            "Requirement already satisfied: tqdm in c:\\users\\sakshi\\anaconda3\\envs\\tf_env\\lib\\site-packages (from optuna) (4.67.1)\n",
            "Requirement already satisfied: PyYAML in c:\\users\\sakshi\\anaconda3\\envs\\tf_env\\lib\\site-packages (from optuna) (6.0.2)\n",
            "Requirement already satisfied: Mako in c:\\users\\sakshi\\anaconda3\\envs\\tf_env\\lib\\site-packages (from alembic>=1.5.0->optuna) (1.3.9)\n",
            "Requirement already satisfied: typing-extensions>=4.12 in c:\\users\\sakshi\\anaconda3\\envs\\tf_env\\lib\\site-packages (from alembic>=1.5.0->optuna) (4.13.0)\n",
            "Requirement already satisfied: greenlet>=1 in c:\\users\\sakshi\\anaconda3\\envs\\tf_env\\lib\\site-packages (from sqlalchemy>=1.4.2->optuna) (3.1.1)\n",
            "Requirement already satisfied: colorama in c:\\users\\sakshi\\anaconda3\\envs\\tf_env\\lib\\site-packages (from colorlog->optuna) (0.4.6)\n",
            "Requirement already satisfied: MarkupSafe>=0.9.2 in c:\\users\\sakshi\\anaconda3\\envs\\tf_env\\lib\\site-packages (from Mako->alembic>=1.5.0->optuna) (3.0.2)\n"
          ]
        }
      ],
      "source": [
        "import sys\n",
        "!{sys.executable} -m pip install optuna"
      ]
    },
    {
      "cell_type": "code",
      "execution_count": 14,
      "metadata": {},
      "outputs": [
        {
          "name": "stdout",
          "output_type": "stream",
          "text": [
            "Requirement already satisfied: xgboost in c:\\users\\sakshi\\anaconda3\\envs\\tf_env\\lib\\site-packages (3.0.0)\n",
            "Requirement already satisfied: numpy in c:\\users\\sakshi\\anaconda3\\envs\\tf_env\\lib\\site-packages (from xgboost) (2.1.3)\n",
            "Requirement already satisfied: scipy in c:\\users\\sakshi\\anaconda3\\envs\\tf_env\\lib\\site-packages (from xgboost) (1.15.2)\n"
          ]
        }
      ],
      "source": [
        "import sys\n",
        "!{sys.executable} -m pip install xgboost"
      ]
    },
    {
      "cell_type": "code",
      "execution_count": 15,
      "metadata": {
        "colab": {
          "base_uri": "https://localhost:8080/"
        },
        "id": "18i9gPb-nzcn",
        "outputId": "f1ed8d9d-e93c-4cd5-9d03-49d7963a1e43"
      },
      "outputs": [
        {
          "name": "stderr",
          "output_type": "stream",
          "text": [
            "c:\\Users\\Sakshi\\Anaconda3\\envs\\tf_env\\lib\\site-packages\\tqdm\\auto.py:21: TqdmWarning: IProgress not found. Please update jupyter and ipywidgets. See https://ipywidgets.readthedocs.io/en/stable/user_install.html\n",
            "  from .autonotebook import tqdm as notebook_tqdm\n",
            "[I 2025-04-02 11:03:20,421] A new study created in memory with name: no-name-48fa7887-8302-4cab-8e87-d7c278324917\n",
            "[I 2025-04-02 11:03:22,633] Trial 0 finished with value: 4.31954244781563 and parameters: {'n_estimators': 1000, 'learning_rate': 0.04821314974904433, 'max_depth': 8, 'subsample': 0.9164371069336219, 'colsample_bytree': 0.722080614014309}. Best is trial 0 with value: 4.31954244781563.\n",
            "[I 2025-04-02 11:03:26,295] Trial 1 finished with value: 4.1829265999202 and parameters: {'n_estimators': 700, 'learning_rate': 0.03880449613090263, 'max_depth': 9, 'subsample': 0.932783872454809, 'colsample_bytree': 0.6450640112445923}. Best is trial 1 with value: 4.1829265999202.\n",
            "[I 2025-04-02 11:03:26,847] Trial 2 finished with value: 3.798523861990556 and parameters: {'n_estimators': 500, 'learning_rate': 0.01729538668286701, 'max_depth': 3, 'subsample': 0.9234204835017666, 'colsample_bytree': 0.7852666107772058}. Best is trial 2 with value: 3.798523861990556.\n",
            "[I 2025-04-02 11:03:27,605] Trial 3 finished with value: 25.909295523408844 and parameters: {'n_estimators': 500, 'learning_rate': 0.003001529065044816, 'max_depth': 5, 'subsample': 0.8040384734465796, 'colsample_bytree': 0.9934278518918358}. Best is trial 2 with value: 3.798523861990556.\n",
            "[I 2025-04-02 11:03:27,981] Trial 4 finished with value: 4.208453847915271 and parameters: {'n_estimators': 200, 'learning_rate': 0.055135621758846946, 'max_depth': 5, 'subsample': 0.8413880777234631, 'colsample_bytree': 0.6740955709081714}. Best is trial 2 with value: 3.798523861990556.\n",
            "[I 2025-04-02 11:03:29,012] Trial 5 finished with value: 46.458187266881524 and parameters: {'n_estimators': 700, 'learning_rate': 0.001180218659017003, 'max_depth': 4, 'subsample': 0.6394794940528529, 'colsample_bytree': 0.918230523468045}. Best is trial 2 with value: 3.798523861990556.\n",
            "[I 2025-04-02 11:03:30,397] Trial 6 finished with value: 20.51262194631331 and parameters: {'n_estimators': 500, 'learning_rate': 0.003584456344427215, 'max_depth': 9, 'subsample': 0.7103157519056575, 'colsample_bytree': 0.983232475005589}. Best is trial 2 with value: 3.798523861990556.\n",
            "[I 2025-04-02 11:03:30,549] Trial 7 finished with value: 24.32888580391154 and parameters: {'n_estimators': 100, 'learning_rate': 0.015637727516139267, 'max_depth': 5, 'subsample': 0.8970917703454337, 'colsample_bytree': 0.8603455601673358}. Best is trial 2 with value: 3.798523861990556.\n",
            "[I 2025-04-02 11:03:31,774] Trial 8 finished with value: 30.476570783834696 and parameters: {'n_estimators': 700, 'learning_rate': 0.001872043860562707, 'max_depth': 9, 'subsample': 0.7244533738537486, 'colsample_bytree': 0.9243336559344668}. Best is trial 2 with value: 3.798523861990556.\n",
            "[I 2025-04-02 11:03:32,108] Trial 9 finished with value: 4.239653042692094 and parameters: {'n_estimators': 400, 'learning_rate': 0.04009634651688107, 'max_depth': 5, 'subsample': 0.891539740579377, 'colsample_bytree': 0.6093489252190433}. Best is trial 2 with value: 3.798523861990556.\n",
            "[I 2025-04-02 11:03:32,313] Trial 10 finished with value: 7.83544806486866 and parameters: {'n_estimators': 300, 'learning_rate': 0.0105973026312258, 'max_depth': 3, 'subsample': 0.9694340899672891, 'colsample_bytree': 0.7808122379558048}. Best is trial 2 with value: 3.798523861990556.\n",
            "[I 2025-04-02 11:03:33,365] Trial 11 finished with value: 4.141528575199722 and parameters: {'n_estimators': 700, 'learning_rate': 0.01585206204363267, 'max_depth': 7, 'subsample': 0.994504278001111, 'colsample_bytree': 0.7786840823624865}. Best is trial 2 with value: 3.798523861990556.\n",
            "[I 2025-04-02 11:03:35,016] Trial 12 finished with value: 4.079285615184776 and parameters: {'n_estimators': 900, 'learning_rate': 0.019719668722017688, 'max_depth': 7, 'subsample': 0.9911783489278375, 'colsample_bytree': 0.7858576596716672}. Best is trial 2 with value: 3.798523861990556.\n",
            "[I 2025-04-02 11:03:37,010] Trial 13 finished with value: 4.12560496104221 and parameters: {'n_estimators': 1000, 'learning_rate': 0.020678811124116188, 'max_depth': 7, 'subsample': 0.9664581287020593, 'colsample_bytree': 0.8337783731740265}. Best is trial 2 with value: 3.798523861990556.\n",
            "[I 2025-04-02 11:03:37,655] Trial 14 finished with value: 4.374704847486509 and parameters: {'n_estimators': 900, 'learning_rate': 0.00557884841550365, 'max_depth': 3, 'subsample': 0.8507887869230943, 'colsample_bytree': 0.7244119170071862}. Best is trial 2 with value: 3.798523861990556.\n",
            "[I 2025-04-02 11:03:38,878] Trial 15 finished with value: 4.493741433722709 and parameters: {'n_estimators': 800, 'learning_rate': 0.006600092478011059, 'max_depth': 6, 'subsample': 0.991917451738126, 'colsample_bytree': 0.7393065390356779}. Best is trial 2 with value: 3.798523861990556.\n",
            "[I 2025-04-02 11:03:40,928] Trial 16 finished with value: 4.3172208041154505 and parameters: {'n_estimators': 400, 'learning_rate': 0.09642890428130027, 'max_depth': 10, 'subsample': 0.7605604383354817, 'colsample_bytree': 0.8365601083235108}. Best is trial 2 with value: 3.798523861990556.\n",
            "[I 2025-04-02 11:03:41,859] Trial 17 finished with value: 4.167040512739401 and parameters: {'n_estimators': 600, 'learning_rate': 0.022786160670872933, 'max_depth': 6, 'subsample': 0.8627705099459279, 'colsample_bytree': 0.8789821954986052}. Best is trial 2 with value: 3.798523861990556.\n",
            "[I 2025-04-02 11:03:44,092] Trial 18 finished with value: 4.17169766393795 and parameters: {'n_estimators': 900, 'learning_rate': 0.008974116272213601, 'max_depth': 8, 'subsample': 0.926646977261912, 'colsample_bytree': 0.7965458450125942}. Best is trial 2 with value: 3.798523861990556.\n",
            "[I 2025-04-02 11:03:44,642] Trial 19 finished with value: 3.9783850125211626 and parameters: {'n_estimators': 600, 'learning_rate': 0.02754110464531085, 'max_depth': 4, 'subsample': 0.9563973961280156, 'colsample_bytree': 0.6849301699224613}. Best is trial 2 with value: 3.798523861990556.\n"
          ]
        },
        {
          "name": "stdout",
          "output_type": "stream",
          "text": [
            "Best Parameters: {'n_estimators': 500, 'learning_rate': 0.01729538668286701, 'max_depth': 3, 'subsample': 0.9234204835017666, 'colsample_bytree': 0.7852666107772058}\n"
          ]
        }
      ],
      "source": [
        "\n",
        "import optuna\n",
        "from xgboost import XGBRegressor\n",
        "from sklearn.metrics import mean_absolute_error\n",
        "\n",
        "def objective(trial):\n",
        "    params = {\n",
        "        \"n_estimators\": trial.suggest_int(\"n_estimators\", 100, 1000, step=100),\n",
        "        \"learning_rate\": trial.suggest_float(\"learning_rate\", 0.001, 0.1, log=True),\n",
        "        \"max_depth\": trial.suggest_int(\"max_depth\", 3, 10),\n",
        "        \"subsample\": trial.suggest_float(\"subsample\", 0.6, 1.0),\n",
        "        \"colsample_bytree\": trial.suggest_float(\"colsample_bytree\", 0.6, 1.0),\n",
        "    }\n",
        "\n",
        "    model = XGBRegressor(**params)\n",
        "    model.fit(X_train, y_train)\n",
        "    preds = model.predict(X_test)\n",
        "    return mean_absolute_error(y_test, preds)\n",
        "\n",
        "# Run Optuna for tuning\n",
        "study = optuna.create_study(direction=\"minimize\")\n",
        "study.optimize(objective, n_trials=20)\n",
        "\n",
        "# Best Parameters\n",
        "best_params = study.best_params\n",
        "print(\"Best Parameters:\", best_params)\n"
      ]
    },
    {
      "cell_type": "code",
      "execution_count": 16,
      "metadata": {
        "colab": {
          "base_uri": "https://localhost:8080/"
        },
        "id": "8g-xOrk_nRey",
        "outputId": "ac30c3c4-95fc-4b96-8dfb-2df9c855c3e2"
      },
      "outputs": [
        {
          "name": "stdout",
          "output_type": "stream",
          "text": [
            "Best Parameters: {'n_estimators': 500, 'learning_rate': 0.01729538668286701, 'max_depth': 3, 'subsample': 0.9234204835017666, 'colsample_bytree': 0.7852666107772058}\n"
          ]
        }
      ],
      "source": [
        "best_params = study.best_params  # Get best hyperparameters from Optuna\n",
        "print(\"Best Parameters:\", best_params)\n"
      ]
    },
    {
      "cell_type": "code",
      "execution_count": 17,
      "metadata": {
        "colab": {
          "base_uri": "https://localhost:8080/"
        },
        "id": "A552XLPyoPek",
        "outputId": "3bdedcb8-ca75-422c-e822-195e68437679"
      },
      "outputs": [
        {
          "name": "stdout",
          "output_type": "stream",
          "text": [
            "Final XGBoost MAE: 3.7985\n"
          ]
        }
      ],
      "source": [
        "from xgboost import XGBRegressor\n",
        "from sklearn.metrics import mean_absolute_error\n",
        "\n",
        "# Train the final model with best parameters\n",
        "final_xgb = XGBRegressor(**best_params)\n",
        "final_xgb.fit(X_train, y_train)\n",
        "\n",
        "# Make predictions\n",
        "xgb_preds = final_xgb.predict(X_test)\n",
        "\n",
        "# Evaluate Performance\n",
        "mae = mean_absolute_error(y_test, xgb_preds)\n",
        "print(f\"Final XGBoost MAE: {mae:.4f}\")\n"
      ]
    },
    {
      "cell_type": "code",
      "execution_count": 18,
      "metadata": {
        "colab": {
          "base_uri": "https://localhost:8080/",
          "height": 507
        },
        "id": "N0brTvjcoljY",
        "outputId": "41f20726-085d-4b54-8118-4e4b217abc50"
      },
      "outputs": [
        {
          "data": {
            "image/png": "[encoded data removed]",
            "text/plain": [
              "<Figure size 1000x500 with 1 Axes>"
            ]
          },
          "metadata": {},
          "output_type": "display_data"
        }
      ],
      "source": [
        "import matplotlib.pyplot as plt\n",
        "import pandas as pd\n",
        "import numpy as np\n",
        "\n",
        "# Get feature importance scores\n",
        "feature_importance = final_xgb.feature_importances_\n",
        "\n",
        "# Create DataFrame\n",
        "features_df = pd.DataFrame({'Feature': X_train.columns, 'Importance': feature_importance})\n",
        "\n",
        "# Sort by importance\n",
        "features_df = features_df.sort_values(by=\"Importance\", ascending=False)\n",
        "\n",
        "# Plot feature importance\n",
        "plt.figure(figsize=(10, 5))\n",
        "plt.barh(features_df[\"Feature\"], features_df[\"Importance\"], color=\"royalblue\")\n",
        "plt.xlabel(\"Feature Importance Score\")\n",
        "plt.ylabel(\"Features\")\n",
        "plt.title(\"XGBoost Feature Importance\")\n",
        "plt.gca().invert_yaxis()  # Highest importance at the top\n",
        "plt.show()\n"
      ]
    },
    {
      "cell_type": "markdown",
      "metadata": {},
      "source": [
        "1.\tThe \"Open\" price is the most important feature, meaning XGBoost relies heavily on it for predictions.\n",
        "2.\tSMA_10 (Simple Moving Average - 10) and EMA_10 (Exponential Moving Average - 10) are also significant, indicating that short-term trends influence the model.\n",
        "3.\tHigh and Low prices contribute moderately, suggesting that price range plays a role.\n",
        "4.\tSMA_50 has some importance, but MACD, RSI, Volume, Signal_Line, and Volatility are not contributing much"
      ]
    },
    {
      "cell_type": "code",
      "execution_count": 19,
      "metadata": {
        "colab": {
          "base_uri": "https://localhost:8080/"
        },
        "id": "6iX3X0QAo5ul",
        "outputId": "d6c00c8c-a913-4868-d6b8-5a20996048ba"
      },
      "outputs": [
        {
          "name": "stdout",
          "output_type": "stream",
          "text": [
            "Training shape: (1764, 10, 5), Test shape: (441, 10, 5)\n"
          ]
        }
      ],
      "source": [
        "import numpy as np\n",
        "import pandas as pd\n",
        "from sklearn.preprocessing import MinMaxScaler\n",
        "\n",
        "# Select relevant features based on XGBoost importance\n",
        "selected_features = ['High', 'SMA_10', 'Open', 'Low', 'EMA_10']\n",
        "\n",
        "# Scale data\n",
        "scaler = MinMaxScaler(feature_range=(0,1))\n",
        "scaled_data = scaler.fit_transform(df[selected_features])\n",
        "\n",
        "# Convert time series data into sequences\n",
        "def create_sequences(data, time_steps=10):\n",
        "    X, y = [], []\n",
        "    for i in range(len(data) - time_steps):\n",
        "        X.append(data[i:i+time_steps])  # Last `time_steps` observations\n",
        "        y.append(data[i+time_steps, 0]) # Predicting 'High' price\n",
        "    return np.array(X), np.array(y)\n",
        "\n",
        "# Define time step (how many past days to use for prediction)\n",
        "time_steps = 10\n",
        "X_lstm, y_lstm = create_sequences(scaled_data, time_steps)\n",
        "\n",
        "# Split data into training and test sets\n",
        "train_size = int(len(X_lstm) * 0.8)\n",
        "X_train, X_test = X_lstm[:train_size], X_lstm[train_size:]\n",
        "y_train, y_test = y_lstm[:train_size], y_lstm[train_size:]\n",
        "\n",
        "print(f\"Training shape: {X_train.shape}, Test shape: {X_test.shape}\")\n"
      ]
    },
    {
      "cell_type": "code",
      "execution_count": 20,
      "metadata": {},
      "outputs": [
        {
          "name": "stdout",
          "output_type": "stream",
          "text": [
            "TensorFlow version: 2.19.0\n",
            "Num GPUs Available: 0\n"
          ]
        }
      ],
      "source": [
        "import tensorflow as tf\n",
        "print(\"TensorFlow version:\", tf.__version__)\n",
        "print(\"Num GPUs Available:\", len(tf.config.list_physical_devices('GPU')))\n"
      ]
    },
    {
      "cell_type": "code",
      "execution_count": 21,
      "metadata": {},
      "outputs": [
        {
          "name": "stdout",
          "output_type": "stream",
          "text": [
            "2.19.0\n"
          ]
        }
      ],
      "source": [
        "import tensorflow as tf\n",
        "print(tf.__version__)\n"
      ]
    },
    {
      "cell_type": "code",
      "execution_count": 22,
      "metadata": {},
      "outputs": [
        {
          "name": "stderr",
          "output_type": "stream",
          "text": [
            "c:\\Users\\Sakshi\\Anaconda3\\envs\\tf_env\\lib\\site-packages\\keras\\src\\layers\\rnn\\rnn.py:200: UserWarning: Do not pass an `input_shape`/`input_dim` argument to a layer. When using Sequential models, prefer using an `Input(shape)` object as the first layer in the model instead.\n",
            "  super().__init__(**kwargs)\n"
          ]
        },
        {
          "name": "stdout",
          "output_type": "stream",
          "text": [
            "Epoch 1/50\n",
            "\u001b[1m111/111\u001b[0m \u001b[32m━━━━━━━━━━━━━━━━━━━━\u001b[0m\u001b[37m\u001b[0m \u001b[1m5s\u001b[0m 12ms/step - loss: 0.0514 - val_loss: 0.0331\n",
            "Epoch 2/50\n",
            "\u001b[1m111/111\u001b[0m \u001b[32m━━━━━━━━━━━━━━━━━━━━\u001b[0m\u001b[37m\u001b[0m \u001b[1m1s\u001b[0m 9ms/step - loss: 0.0261 - val_loss: 0.0378\n",
            "Epoch 3/50\n",
            "\u001b[1m111/111\u001b[0m \u001b[32m━━━━━━━━━━━━━━━━━━━━\u001b[0m\u001b[37m\u001b[0m \u001b[1m1s\u001b[0m 9ms/step - loss: 0.0263 - val_loss: 0.0291\n",
            "Epoch 4/50\n",
            "\u001b[1m111/111\u001b[0m \u001b[32m━━━━━━━━━━━━━━━━━━━━\u001b[0m\u001b[37m\u001b[0m \u001b[1m1s\u001b[0m 9ms/step - loss: 0.0226 - val_loss: 0.0397\n",
            "Epoch 5/50\n",
            "\u001b[1m111/111\u001b[0m \u001b[32m━━━━━━━━━━━━━━━━━━━━\u001b[0m\u001b[37m\u001b[0m \u001b[1m1s\u001b[0m 9ms/step - loss: 0.0237 - val_loss: 0.0234\n",
            "Epoch 6/50\n",
            "\u001b[1m111/111\u001b[0m \u001b[32m━━━━━━━━━━━━━━━━━━━━\u001b[0m\u001b[37m\u001b[0m \u001b[1m1s\u001b[0m 9ms/step - loss: 0.0227 - val_loss: 0.0235\n",
            "Epoch 7/50\n",
            "\u001b[1m111/111\u001b[0m \u001b[32m━━━━━━━━━━━━━━━━━━━━\u001b[0m\u001b[37m\u001b[0m \u001b[1m1s\u001b[0m 7ms/step - loss: 0.0211 - val_loss: 0.0613\n",
            "Epoch 8/50\n",
            "\u001b[1m111/111\u001b[0m \u001b[32m━━━━━━━━━━━━━━━━━━━━\u001b[0m\u001b[37m\u001b[0m \u001b[1m1s\u001b[0m 7ms/step - loss: 0.0212 - val_loss: 0.0302\n",
            "Epoch 9/50\n",
            "\u001b[1m111/111\u001b[0m \u001b[32m━━━━━━━━━━━━━━━━━━━━\u001b[0m\u001b[37m\u001b[0m \u001b[1m1s\u001b[0m 7ms/step - loss: 0.0196 - val_loss: 0.0358\n",
            "Epoch 10/50\n",
            "\u001b[1m111/111\u001b[0m \u001b[32m━━━━━━━━━━━━━━━━━━━━\u001b[0m\u001b[37m\u001b[0m \u001b[1m1s\u001b[0m 7ms/step - loss: 0.0202 - val_loss: 0.0248\n",
            "Epoch 11/50\n",
            "\u001b[1m111/111\u001b[0m \u001b[32m━━━━━━━━━━━━━━━━━━━━\u001b[0m\u001b[37m\u001b[0m \u001b[1m1s\u001b[0m 7ms/step - loss: 0.0187 - val_loss: 0.0464\n",
            "Epoch 12/50\n",
            "\u001b[1m111/111\u001b[0m \u001b[32m━━━━━━━━━━━━━━━━━━━━\u001b[0m\u001b[37m\u001b[0m \u001b[1m1s\u001b[0m 7ms/step - loss: 0.0225 - val_loss: 0.0203\n",
            "Epoch 13/50\n",
            "\u001b[1m111/111\u001b[0m \u001b[32m━━━━━━━━━━━━━━━━━━━━\u001b[0m\u001b[37m\u001b[0m \u001b[1m1s\u001b[0m 7ms/step - loss: 0.0198 - val_loss: 0.0236\n",
            "Epoch 14/50\n",
            "\u001b[1m111/111\u001b[0m \u001b[32m━━━━━━━━━━━━━━━━━━━━\u001b[0m\u001b[37m\u001b[0m \u001b[1m1s\u001b[0m 7ms/step - loss: 0.0203 - val_loss: 0.0217\n",
            "Epoch 15/50\n",
            "\u001b[1m111/111\u001b[0m \u001b[32m━━━━━━━━━━━━━━━━━━━━\u001b[0m\u001b[37m\u001b[0m \u001b[1m1s\u001b[0m 7ms/step - loss: 0.0203 - val_loss: 0.0639\n",
            "Epoch 16/50\n",
            "\u001b[1m111/111\u001b[0m \u001b[32m━━━━━━━━━━━━━━━━━━━━\u001b[0m\u001b[37m\u001b[0m \u001b[1m1s\u001b[0m 6ms/step - loss: 0.0199 - val_loss: 0.0371\n",
            "Epoch 17/50\n",
            "\u001b[1m111/111\u001b[0m \u001b[32m━━━━━━━━━━━━━━━━━━━━\u001b[0m\u001b[37m\u001b[0m \u001b[1m1s\u001b[0m 6ms/step - loss: 0.0172 - val_loss: 0.0341\n",
            "Epoch 18/50\n",
            "\u001b[1m111/111\u001b[0m \u001b[32m━━━━━━━━━━━━━━━━━━━━\u001b[0m\u001b[37m\u001b[0m \u001b[1m1s\u001b[0m 6ms/step - loss: 0.0172 - val_loss: 0.0187\n",
            "Epoch 19/50\n",
            "\u001b[1m111/111\u001b[0m \u001b[32m━━━━━━━━━━━━━━━━━━━━\u001b[0m\u001b[37m\u001b[0m \u001b[1m1s\u001b[0m 6ms/step - loss: 0.0176 - val_loss: 0.0263\n",
            "Epoch 20/50\n",
            "\u001b[1m111/111\u001b[0m \u001b[32m━━━━━━━━━━━━━━━━━━━━\u001b[0m\u001b[37m\u001b[0m \u001b[1m1s\u001b[0m 6ms/step - loss: 0.0210 - val_loss: 0.0330\n",
            "Epoch 21/50\n",
            "\u001b[1m111/111\u001b[0m \u001b[32m━━━━━━━━━━━━━━━━━━━━\u001b[0m\u001b[37m\u001b[0m \u001b[1m1s\u001b[0m 6ms/step - loss: 0.0195 - val_loss: 0.0543\n",
            "Epoch 22/50\n",
            "\u001b[1m111/111\u001b[0m \u001b[32m━━━━━━━━━━━━━━━━━━━━\u001b[0m\u001b[37m\u001b[0m \u001b[1m1s\u001b[0m 6ms/step - loss: 0.0184 - val_loss: 0.0364\n",
            "Epoch 23/50\n",
            "\u001b[1m111/111\u001b[0m \u001b[32m━━━━━━━━━━━━━━━━━━━━\u001b[0m\u001b[37m\u001b[0m \u001b[1m1s\u001b[0m 7ms/step - loss: 0.0173 - val_loss: 0.0194\n",
            "Epoch 24/50\n",
            "\u001b[1m111/111\u001b[0m \u001b[32m━━━━━━━━━━━━━━━━━━━━\u001b[0m\u001b[37m\u001b[0m \u001b[1m1s\u001b[0m 6ms/step - loss: 0.0165 - val_loss: 0.0343\n",
            "Epoch 25/50\n",
            "\u001b[1m111/111\u001b[0m \u001b[32m━━━━━━━━━━━━━━━━━━━━\u001b[0m\u001b[37m\u001b[0m \u001b[1m1s\u001b[0m 6ms/step - loss: 0.0182 - val_loss: 0.0403\n",
            "Epoch 26/50\n",
            "\u001b[1m111/111\u001b[0m \u001b[32m━━━━━━━━━━━━━━━━━━━━\u001b[0m\u001b[37m\u001b[0m \u001b[1m1s\u001b[0m 7ms/step - loss: 0.0185 - val_loss: 0.0194\n",
            "Epoch 27/50\n",
            "\u001b[1m111/111\u001b[0m \u001b[32m━━━━━━━━━━━━━━━━━━━━\u001b[0m\u001b[37m\u001b[0m \u001b[1m1s\u001b[0m 8ms/step - loss: 0.0179 - val_loss: 0.0206\n",
            "Epoch 28/50\n",
            "\u001b[1m111/111\u001b[0m \u001b[32m━━━━━━━━━━━━━━━━━━━━\u001b[0m\u001b[37m\u001b[0m \u001b[1m1s\u001b[0m 6ms/step - loss: 0.0187 - val_loss: 0.0217\n",
            "Epoch 29/50\n",
            "\u001b[1m111/111\u001b[0m \u001b[32m━━━━━━━━━━━━━━━━━━━━\u001b[0m\u001b[37m\u001b[0m \u001b[1m1s\u001b[0m 6ms/step - loss: 0.0169 - val_loss: 0.0317\n",
            "Epoch 30/50\n",
            "\u001b[1m111/111\u001b[0m \u001b[32m━━━━━━━━━━━━━━━━━━━━\u001b[0m\u001b[37m\u001b[0m \u001b[1m1s\u001b[0m 6ms/step - loss: 0.0172 - val_loss: 0.0265\n",
            "Epoch 31/50\n",
            "\u001b[1m111/111\u001b[0m \u001b[32m━━━━━━━━━━━━━━━━━━━━\u001b[0m\u001b[37m\u001b[0m \u001b[1m1s\u001b[0m 6ms/step - loss: 0.0183 - val_loss: 0.0504\n",
            "Epoch 32/50\n",
            "\u001b[1m111/111\u001b[0m \u001b[32m━━━━━━━━━━━━━━━━━━━━\u001b[0m\u001b[37m\u001b[0m \u001b[1m1s\u001b[0m 6ms/step - loss: 0.0182 - val_loss: 0.0213\n",
            "Epoch 33/50\n",
            "\u001b[1m111/111\u001b[0m \u001b[32m━━━━━━━━━━━━━━━━━━━━\u001b[0m\u001b[37m\u001b[0m \u001b[1m1s\u001b[0m 7ms/step - loss: 0.0175 - val_loss: 0.0350\n",
            "Epoch 34/50\n",
            "\u001b[1m111/111\u001b[0m \u001b[32m━━━━━━━━━━━━━━━━━━━━\u001b[0m\u001b[37m\u001b[0m \u001b[1m1s\u001b[0m 7ms/step - loss: 0.0174 - val_loss: 0.0296\n",
            "Epoch 35/50\n",
            "\u001b[1m111/111\u001b[0m \u001b[32m━━━━━━━━━━━━━━━━━━━━\u001b[0m\u001b[37m\u001b[0m \u001b[1m1s\u001b[0m 7ms/step - loss: 0.0179 - val_loss: 0.0328\n",
            "Epoch 36/50\n",
            "\u001b[1m111/111\u001b[0m \u001b[32m━━━━━━━━━━━━━━━━━━━━\u001b[0m\u001b[37m\u001b[0m \u001b[1m1s\u001b[0m 7ms/step - loss: 0.0178 - val_loss: 0.0179\n",
            "Epoch 37/50\n",
            "\u001b[1m111/111\u001b[0m \u001b[32m━━━━━━━━━━━━━━━━━━━━\u001b[0m\u001b[37m\u001b[0m \u001b[1m1s\u001b[0m 7ms/step - loss: 0.0180 - val_loss: 0.0166\n",
            "Epoch 38/50\n",
            "\u001b[1m111/111\u001b[0m \u001b[32m━━━━━━━━━━━━━━━━━━━━\u001b[0m\u001b[37m\u001b[0m \u001b[1m1s\u001b[0m 8ms/step - loss: 0.0195 - val_loss: 0.0163\n",
            "Epoch 39/50\n",
            "\u001b[1m111/111\u001b[0m \u001b[32m━━━━━━━━━━━━━━━━━━━━\u001b[0m\u001b[37m\u001b[0m \u001b[1m1s\u001b[0m 7ms/step - loss: 0.0181 - val_loss: 0.0222\n",
            "Epoch 40/50\n",
            "\u001b[1m111/111\u001b[0m \u001b[32m━━━━━━━━━━━━━━━━━━━━\u001b[0m\u001b[37m\u001b[0m \u001b[1m1s\u001b[0m 7ms/step - loss: 0.0175 - val_loss: 0.0350\n",
            "Epoch 41/50\n",
            "\u001b[1m111/111\u001b[0m \u001b[32m━━━━━━━━━━━━━━━━━━━━\u001b[0m\u001b[37m\u001b[0m \u001b[1m1s\u001b[0m 7ms/step - loss: 0.0184 - val_loss: 0.0168\n",
            "Epoch 42/50\n",
            "\u001b[1m111/111\u001b[0m \u001b[32m━━━━━━━━━━━━━━━━━━━━\u001b[0m\u001b[37m\u001b[0m \u001b[1m1s\u001b[0m 7ms/step - loss: 0.0172 - val_loss: 0.0390\n",
            "Epoch 43/50\n",
            "\u001b[1m111/111\u001b[0m \u001b[32m━━━━━━━━━━━━━━━━━━━━\u001b[0m\u001b[37m\u001b[0m \u001b[1m1s\u001b[0m 7ms/step - loss: 0.0179 - val_loss: 0.0340\n",
            "Epoch 44/50\n",
            "\u001b[1m111/111\u001b[0m \u001b[32m━━━━━━━━━━━━━━━━━━━━\u001b[0m\u001b[37m\u001b[0m \u001b[1m1s\u001b[0m 7ms/step - loss: 0.0180 - val_loss: 0.0767\n",
            "Epoch 45/50\n",
            "\u001b[1m111/111\u001b[0m \u001b[32m━━━━━━━━━━━━━━━━━━━━\u001b[0m\u001b[37m\u001b[0m \u001b[1m1s\u001b[0m 7ms/step - loss: 0.0197 - val_loss: 0.0199\n",
            "Epoch 46/50\n",
            "\u001b[1m111/111\u001b[0m \u001b[32m━━━━━━━━━━━━━━━━━━━━\u001b[0m\u001b[37m\u001b[0m \u001b[1m1s\u001b[0m 8ms/step - loss: 0.0179 - val_loss: 0.0209\n",
            "Epoch 47/50\n",
            "\u001b[1m111/111\u001b[0m \u001b[32m━━━━━━━━━━━━━━━━━━━━\u001b[0m\u001b[37m\u001b[0m \u001b[1m1s\u001b[0m 10ms/step - loss: 0.0165 - val_loss: 0.0336\n",
            "Epoch 48/50\n",
            "\u001b[1m111/111\u001b[0m \u001b[32m━━━━━━━━━━━━━━━━━━━━\u001b[0m\u001b[37m\u001b[0m \u001b[1m1s\u001b[0m 10ms/step - loss: 0.0162 - val_loss: 0.0519\n",
            "Epoch 49/50\n",
            "\u001b[1m111/111\u001b[0m \u001b[32m━━━━━━━━━━━━━━━━━━━━\u001b[0m\u001b[37m\u001b[0m \u001b[1m1s\u001b[0m 10ms/step - loss: 0.0185 - val_loss: 0.0281\n",
            "Epoch 50/50\n",
            "\u001b[1m111/111\u001b[0m \u001b[32m━━━━━━━━━━━━━━━━━━━━\u001b[0m\u001b[37m\u001b[0m \u001b[1m1s\u001b[0m 9ms/step - loss: 0.0172 - val_loss: 0.0170\n"
          ]
        },
        {
          "name": "stderr",
          "output_type": "stream",
          "text": [
            "WARNING:absl:You are saving your model as an HDF5 file via `model.save()` or `keras.saving.save_model(model)`. This file format is considered legacy. We recommend using instead the native Keras format, e.g. `model.save('my_model.keras')` or `keras.saving.save_model(model, 'my_model.keras')`. \n"
          ]
        }
      ],
      "source": [
        "#import tensorflow as tf\n",
        "from tensorflow.keras.models import Sequential\n",
        "from tensorflow.keras.layers import LSTM, Dense, Dropout\n",
        "\n",
        "# Define the LSTM model\n",
        "model = Sequential([\n",
        "    LSTM(64, return_sequences=True, input_shape=(time_steps, len(selected_features))),\n",
        "    Dropout(0.2),\n",
        "    LSTM(32, return_sequences=False),\n",
        "    Dropout(0.2),\n",
        "    Dense(1)  # Output layer (Predicting stock price)\n",
        "])\n",
        "\n",
        "# Compile the model\n",
        "model.compile(optimizer='adam', loss='mae')\n",
        "\n",
        "# Train the model\n",
        "history = model.fit(X_train, y_train, epochs=50, batch_size=16, validation_data=(X_test, y_test), verbose=1)\n",
        "\n",
        "# Save model\n",
        "model.save(\"lstm_model.h5\")\n"
      ]
    },
    {
      "cell_type": "code",
      "execution_count": 23,
      "metadata": {
        "colab": {
          "base_uri": "https://localhost:8080/"
        },
        "id": "f94gVhv9pBy-",
        "outputId": "468940ae-cd1f-4b6f-9b22-c33ba1e58c71"
      },
      "outputs": [
        {
          "name": "stdout",
          "output_type": "stream",
          "text": [
            "\u001b[1m14/14\u001b[0m \u001b[32m━━━━━━━━━━━━━━━━━━━━\u001b[0m\u001b[37m\u001b[0m \u001b[1m1s\u001b[0m 29ms/step\n",
            "LSTM MAE: 3.0214230903544137\n"
          ]
        }
      ],
      "source": [
        "# Make predictions\n",
        "predictions = model.predict(X_test)\n",
        "\n",
        "# Reverse scaling\n",
        "predictions_rescaled = scaler.inverse_transform(np.hstack((predictions, np.zeros((len(predictions), len(selected_features)-1)))))[:, 0]\n",
        "y_test_rescaled = scaler.inverse_transform(np.hstack((y_test.reshape(-1,1), np.zeros((len(y_test), len(selected_features)-1)))))[:, 0]\n",
        "\n",
        "# Evaluate model\n",
        "from sklearn.metrics import mean_absolute_error\n",
        "\n",
        "lstm_mae = mean_absolute_error(y_test_rescaled, predictions_rescaled)\n",
        "print(f\"LSTM MAE: {lstm_mae}\")\n"
      ]
    },
    {
      "cell_type": "code",
      "execution_count": 24,
      "metadata": {
        "colab": {
          "base_uri": "https://localhost:8080/"
        },
        "id": "7q6K8pdMqL-6",
        "outputId": "2668371c-d56b-4ed0-f141-e8ba9f59b9cd"
      },
      "outputs": [
        {
          "data": {
            "text/plain": [
              "['Close',\n",
              " 'High',\n",
              " 'Low',\n",
              " 'Open',\n",
              " 'Volume',\n",
              " 'SMA_10',\n",
              " 'SMA_50',\n",
              " 'EMA_10',\n",
              " 'Volatility',\n",
              " 'RSI',\n",
              " 'MACD',\n",
              " 'Signal_Line']"
            ]
          },
          "execution_count": 24,
          "metadata": {},
          "output_type": "execute_result"
        }
      ],
      "source": [
        "# Extract column names before converting to NumPy\n",
        "feature_names = df.columns.tolist()\n",
        "feature_names"
      ]
    },
    {
      "cell_type": "markdown",
      "metadata": {
        "id": "d5EN8We-quIz"
      },
      "source": [
        "If you are using XGBoost after LSTM, you need to flatten the input from 3D → 2D."
      ]
    },
    {
      "cell_type": "code",
      "execution_count": 25,
      "metadata": {
        "colab": {
          "base_uri": "https://localhost:8080/"
        },
        "id": "dSpzJnVdq-gS",
        "outputId": "7979160e-0eb9-4f94-eac5-757c6aae1a05"
      },
      "outputs": [
        {
          "name": "stdout",
          "output_type": "stream",
          "text": [
            "LSTM Input Shape: (1764, 10, 10)\n"
          ]
        }
      ],
      "source": [
        "import numpy as np\n",
        "import pandas as pd\n",
        "import tensorflow as tf\n",
        "from tensorflow.keras.models import Sequential\n",
        "from tensorflow.keras.layers import LSTM, Dense, Dropout\n",
        "\n",
        "# Convert dataset into supervised learning format\n",
        "def create_sequences(data, n_steps):\n",
        "    X, y = [], []\n",
        "    for i in range(len(data) - n_steps):\n",
        "        X.append(data[i:i+n_steps, :])  # n_steps time windows\n",
        "        y.append(data[i+n_steps, 0])  # Predicting 'Close' price\n",
        "    return np.array(X), np.array(y)\n",
        "\n",
        "n_steps = 10  # Window size\n",
        "features = ['Close', 'Open', 'High', 'Low', 'Volume', 'SMA_10', 'SMA_50', 'EMA_10', 'RSI', 'MACD']  # Use relevant features\n",
        "\n",
        "# Convert DataFrame to NumPy\n",
        "data = df[features].values\n",
        "X_lstm, y_lstm = create_sequences(data, n_steps)\n",
        "\n",
        "# Train-test split\n",
        "split = int(len(X_lstm) * 0.8)\n",
        "X_train_lstm, X_test_lstm = X_lstm[:split], X_lstm[split:]\n",
        "y_train_lstm, y_test_lstm = y_lstm[:split], y_lstm[split:]\n",
        "\n",
        "# Reshape X for LSTM (samples, timesteps, features)\n",
        "print(\"LSTM Input Shape:\", X_train_lstm.shape)  # Should be (samples, timesteps, features)\n"
      ]
    },
    {
      "cell_type": "code",
      "execution_count": 26,
      "metadata": {},
      "outputs": [
        {
          "name": "stdout",
          "output_type": "stream",
          "text": [
            "Shape of X_lstm: (2205, 10, 10)\n",
            "X_train_lstm shape after fix: (1764, 10, 10)\n"
          ]
        }
      ],
      "source": [
        "def create_sequences(data, n_steps):\n",
        "    X, y = [], []\n",
        "    for i in range(len(data) - n_steps):\n",
        "        X.append(data[i:i+n_steps, :])  # Use all features\n",
        "        y.append(data[i+n_steps, 0])    # Predicting 'Close' price\n",
        "    return np.array(X), np.array(y)\n",
        "\n",
        "# Convert DataFrame to NumPy\n",
        "data = df[features].values\n",
        "X_lstm, y_lstm = create_sequences(data, n_steps)\n",
        "\n",
        "print(\"Shape of X_lstm:\", X_lstm.shape)  # Should be (samples, timesteps, features)\n",
        "\n",
        "# Ensure correct shape\n",
        "X_train_lstm = X_lstm[:split]\n",
        "X_test_lstm = X_lstm[split:]\n",
        "y_train_lstm = y_lstm[:split]\n",
        "y_test_lstm = y_lstm[split:]\n",
        "\n",
        "print(\"X_train_lstm shape after fix:\", X_train_lstm.shape)  # Should be (samples, timesteps, features)\n"
      ]
    },
    {
      "cell_type": "code",
      "execution_count": 27,
      "metadata": {
        "colab": {
          "base_uri": "https://localhost:8080/"
        },
        "id": "ddnUt9azrBgy",
        "outputId": "0249a071-21af-4a9d-8325-b34e4605bfa1"
      },
      "outputs": [
        {
          "name": "stdout",
          "output_type": "stream",
          "text": [
            "Epoch 1/20\n"
          ]
        },
        {
          "name": "stderr",
          "output_type": "stream",
          "text": [
            "c:\\Users\\Sakshi\\Anaconda3\\envs\\tf_env\\lib\\site-packages\\keras\\src\\layers\\rnn\\rnn.py:200: UserWarning: Do not pass an `input_shape`/`input_dim` argument to a layer. When using Sequential models, prefer using an `Input(shape)` object as the first layer in the model instead.\n",
            "  super().__init__(**kwargs)\n"
          ]
        },
        {
          "name": "stdout",
          "output_type": "stream",
          "text": [
            "\u001b[1m56/56\u001b[0m \u001b[32m━━━━━━━━━━━━━━━━━━━━\u001b[0m\u001b[37m\u001b[0m \u001b[1m4s\u001b[0m 17ms/step - loss: 5670.4185 - val_loss: 25328.6152\n",
            "Epoch 2/20\n",
            "\u001b[1m56/56\u001b[0m \u001b[32m━━━━━━━━━━━━━━━━━━━━\u001b[0m\u001b[37m\u001b[0m \u001b[1m1s\u001b[0m 11ms/step - loss: 5595.1279 - val_loss: 23903.4121\n",
            "Epoch 3/20\n",
            "\u001b[1m56/56\u001b[0m \u001b[32m━━━━━━━━━━━━━━━━━━━━\u001b[0m\u001b[37m\u001b[0m \u001b[1m1s\u001b[0m 11ms/step - loss: 5025.0190 - val_loss: 22629.8613\n",
            "Epoch 4/20\n",
            "\u001b[1m56/56\u001b[0m \u001b[32m━━━━━━━━━━━━━━━━━━━━\u001b[0m\u001b[37m\u001b[0m \u001b[1m1s\u001b[0m 10ms/step - loss: 4554.1997 - val_loss: 21262.0332\n",
            "Epoch 5/20\n",
            "\u001b[1m56/56\u001b[0m \u001b[32m━━━━━━━━━━━━━━━━━━━━\u001b[0m\u001b[37m\u001b[0m \u001b[1m1s\u001b[0m 10ms/step - loss: 4076.5369 - val_loss: 19799.6367\n",
            "Epoch 6/20\n",
            "\u001b[1m56/56\u001b[0m \u001b[32m━━━━━━━━━━━━━━━━━━━━\u001b[0m\u001b[37m\u001b[0m \u001b[1m1s\u001b[0m 10ms/step - loss: 3535.6934 - val_loss: 18316.5371\n",
            "Epoch 7/20\n",
            "\u001b[1m56/56\u001b[0m \u001b[32m━━━━━━━━━━━━━━━━━━━━\u001b[0m\u001b[37m\u001b[0m \u001b[1m1s\u001b[0m 10ms/step - loss: 3175.0435 - val_loss: 16850.5117\n",
            "Epoch 8/20\n",
            "\u001b[1m56/56\u001b[0m \u001b[32m━━━━━━━━━━━━━━━━━━━━\u001b[0m\u001b[37m\u001b[0m \u001b[1m1s\u001b[0m 11ms/step - loss: 2909.3672 - val_loss: 15488.4834\n",
            "Epoch 9/20\n",
            "\u001b[1m56/56\u001b[0m \u001b[32m━━━━━━━━━━━━━━━━━━━━\u001b[0m\u001b[37m\u001b[0m \u001b[1m1s\u001b[0m 10ms/step - loss: 2552.6243 - val_loss: 14258.5557\n",
            "Epoch 10/20\n",
            "\u001b[1m56/56\u001b[0m \u001b[32m━━━━━━━━━━━━━━━━━━━━\u001b[0m\u001b[37m\u001b[0m \u001b[1m1s\u001b[0m 12ms/step - loss: 2169.9214 - val_loss: 13201.4375\n",
            "Epoch 11/20\n",
            "\u001b[1m56/56\u001b[0m \u001b[32m━━━━━━━━━━━━━━━━━━━━\u001b[0m\u001b[37m\u001b[0m \u001b[1m1s\u001b[0m 10ms/step - loss: 2252.6582 - val_loss: 12286.2539\n",
            "Epoch 12/20\n",
            "\u001b[1m56/56\u001b[0m \u001b[32m━━━━━━━━━━━━━━━━━━━━\u001b[0m\u001b[37m\u001b[0m \u001b[1m1s\u001b[0m 10ms/step - loss: 1989.4314 - val_loss: 11589.5117\n",
            "Epoch 13/20\n",
            "\u001b[1m56/56\u001b[0m \u001b[32m━━━━━━━━━━━━━━━━━━━━\u001b[0m\u001b[37m\u001b[0m \u001b[1m1s\u001b[0m 10ms/step - loss: 1870.5708 - val_loss: 11071.6484\n",
            "Epoch 14/20\n",
            "\u001b[1m56/56\u001b[0m \u001b[32m━━━━━━━━━━━━━━━━━━━━\u001b[0m\u001b[37m\u001b[0m \u001b[1m1s\u001b[0m 11ms/step - loss: 2071.6602 - val_loss: 10717.2539\n",
            "Epoch 15/20\n",
            "\u001b[1m56/56\u001b[0m \u001b[32m━━━━━━━━━━━━━━━━━━━━\u001b[0m\u001b[37m\u001b[0m \u001b[1m1s\u001b[0m 11ms/step - loss: 1845.2318 - val_loss: 10449.8252\n",
            "Epoch 16/20\n",
            "\u001b[1m56/56\u001b[0m \u001b[32m━━━━━━━━━━━━━━━━━━━━\u001b[0m\u001b[37m\u001b[0m \u001b[1m1s\u001b[0m 9ms/step - loss: 1924.1315 - val_loss: 10250.2607\n",
            "Epoch 17/20\n",
            "\u001b[1m56/56\u001b[0m \u001b[32m━━━━━━━━━━━━━━━━━━━━\u001b[0m\u001b[37m\u001b[0m \u001b[1m1s\u001b[0m 10ms/step - loss: 2010.2616 - val_loss: 10080.8164\n",
            "Epoch 18/20\n",
            "\u001b[1m56/56\u001b[0m \u001b[32m━━━━━━━━━━━━━━━━━━━━\u001b[0m\u001b[37m\u001b[0m \u001b[1m1s\u001b[0m 12ms/step - loss: 1901.3104 - val_loss: 10034.4805\n",
            "Epoch 19/20\n",
            "\u001b[1m56/56\u001b[0m \u001b[32m━━━━━━━━━━━━━━━━━━━━\u001b[0m\u001b[37m\u001b[0m \u001b[1m1s\u001b[0m 14ms/step - loss: 1892.6167 - val_loss: 10031.0840\n",
            "Epoch 20/20\n",
            "\u001b[1m56/56\u001b[0m \u001b[32m━━━━━━━━━━━━━━━━━━━━\u001b[0m\u001b[37m\u001b[0m \u001b[1m1s\u001b[0m 12ms/step - loss: 1888.5509 - val_loss: 9954.5029\n",
            "\u001b[1m56/56\u001b[0m \u001b[32m━━━━━━━━━━━━━━━━━━━━\u001b[0m\u001b[37m\u001b[0m \u001b[1m1s\u001b[0m 9ms/step\n",
            "\u001b[1m14/14\u001b[0m \u001b[32m━━━━━━━━━━━━━━━━━━━━\u001b[0m\u001b[37m\u001b[0m \u001b[1m0s\u001b[0m 4ms/step \n",
            "LSTM Features Shape: (1764, 1)\n"
          ]
        }
      ],
      "source": [
        "\n",
        "num_features = X_train.shape[2]\n",
        "\n",
        "num_features = X_train_lstm.shape[2]  # Ensure this is correct\n",
        "model_lstm = Sequential([\n",
        "    LSTM(64, return_sequences=True, activation=\"tanh\", input_shape=(n_steps, num_features)),\n",
        "    LSTM(32, return_sequences=False, activation=\"tanh\"),\n",
        "    Dense(16, activation=\"relu\"),\n",
        "    Dense(1, activation=\"linear\")\n",
        "])\n",
        "\n",
        "\n",
        "model_lstm.compile(optimizer='adam', loss='mse')\n",
        "model_lstm.fit(X_train_lstm, y_train_lstm, epochs=20, batch_size=32, validation_data=(X_test_lstm, y_test_lstm))\n",
        "\n",
        "# Extract features from LSTM (hidden states)\n",
        "lstm_features_train = model_lstm.predict(X_train_lstm)  # Shape: (samples, 1)\n",
        "lstm_features_test = model_lstm.predict(X_test_lstm)\n",
        "\n",
        "print(\"LSTM Features Shape:\", lstm_features_train.shape)  # Should be (samples, 1)\n"
      ]
    },
    {
      "cell_type": "code",
      "execution_count": 28,
      "metadata": {},
      "outputs": [
        {
          "name": "stdout",
          "output_type": "stream",
          "text": [
            "Final XGBoost Input Shape: (1764, 11)\n"
          ]
        }
      ],
      "source": [
        "import xgboost as xgb\n",
        "from sklearn.metrics import mean_absolute_error\n",
        "\n",
        "# Convert LSTM outputs into DataFrame\n",
        "lstm_train_df = pd.DataFrame(lstm_features_train, columns=['LSTM_Feature'])\n",
        "lstm_test_df = pd.DataFrame(lstm_features_test, columns=['LSTM_Feature'])\n",
        "\n",
        "# Original XGBoost Features (Latest Available Data)\n",
        "X_xgb = df.iloc[n_steps:-1][features].reset_index(drop=True)  # Offset by `n_steps`\n",
        "y_xgb = df.iloc[n_steps+1:]['Close'].reset_index(drop=True)  # Offset by `n_steps + 1`\n",
        "\n",
        "# Train-test split (consistent with LSTM)\n",
        "X_train_xgb, X_test_xgb = X_xgb[:split], X_xgb[split:]\n",
        "y_train_xgb, y_test_xgb = y_xgb[:split], y_xgb[split:]\n",
        "\n",
        "# Merge LSTM features with XGBoost features\n",
        "X_train_final = pd.concat([X_train_xgb.reset_index(drop=True), lstm_train_df], axis=1)\n",
        "X_test_final = pd.concat([X_test_xgb.reset_index(drop=True), lstm_test_df], axis=1)\n",
        "\n",
        "print(\"Final XGBoost Input Shape:\", X_train_final.shape)  # Should be (samples, features+1)\n"
      ]
    },
    {
      "cell_type": "code",
      "execution_count": 29,
      "metadata": {
        "colab": {
          "base_uri": "https://localhost:8080/"
        },
        "id": "exjncaHlrZg0",
        "outputId": "d70b7703-ce3e-450b-8927-14b259d67c13"
      },
      "outputs": [
        {
          "name": "stdout",
          "output_type": "stream",
          "text": [
            "Final XGBoost Input Shape (Train): (1764, 11), Labels Shape: (1764,)\n",
            "Final XGBoost Input Shape (Test): (440, 11), Labels Shape: (440,)\n"
          ]
        }
      ],
      "source": [
        "# Ensure LSTM feature size matches XGBoost's feature size\n",
        "min_samples = min(len(X_xgb), len(lstm_features_train))  # Find the smaller size\n",
        "\n",
        "X_xgb = X_xgb.iloc[:min_samples].reset_index(drop=True)\n",
        "y_xgb = y_xgb.iloc[:min_samples].reset_index(drop=True)\n",
        "lstm_features_train = lstm_features_train[:min_samples]  # Trim LSTM features\n",
        "lstm_features_test = lstm_features_test[:len(X_test_xgb)]  # Trim test set too\n",
        "\n",
        "# Merge XGBoost features with LSTM features\n",
        "X_train_final = pd.concat([X_train_xgb.reset_index(drop=True), pd.DataFrame(lstm_features_train, columns=['LSTM_Feature'])], axis=1)\n",
        "X_test_final = pd.concat([X_test_xgb.reset_index(drop=True), pd.DataFrame(lstm_features_test, columns=['LSTM_Feature'])], axis=1)\n",
        "\n",
        "print(f\"Final XGBoost Input Shape (Train): {X_train_final.shape}, Labels Shape: {y_train_xgb.shape}\")\n",
        "print(f\"Final XGBoost Input Shape (Test): {X_test_final.shape}, Labels Shape: {y_test_xgb.shape}\")\n"
      ]
    },
    {
      "cell_type": "code",
      "execution_count": 30,
      "metadata": {
        "colab": {
          "base_uri": "https://localhost:8080/"
        },
        "id": "6H742yf0rIjz",
        "outputId": "1dd3dcd4-555a-4494-a57e-3fa6cc99b704"
      },
      "outputs": [
        {
          "name": "stdout",
          "output_type": "stream",
          "text": [
            "Hybrid Model MAE: 6.0555\n"
          ]
        }
      ],
      "source": [
        "xgb_model = xgb.XGBRegressor(n_estimators=100, learning_rate=0.05, max_depth=5)\n",
        "xgb_model.fit(X_train_final, y_train_xgb)\n",
        "\n",
        "# Predictions\n",
        "y_pred_xgb = xgb_model.predict(X_test_final)\n",
        "\n",
        "# Evaluate Model\n",
        "mae = mean_absolute_error(y_test_xgb, y_pred_xgb)\n",
        "print(f\"Hybrid Model MAE: {mae:.4f}\")\n"
      ]
    },
    {
      "cell_type": "code",
      "execution_count": 31,
      "metadata": {
        "colab": {
          "base_uri": "https://localhost:8080/"
        },
        "id": "BfS623H-ta5m",
        "outputId": "8b35fe88-6a9c-40e3-f110-98bba3dd843f"
      },
      "outputs": [
        {
          "name": "stdout",
          "output_type": "stream",
          "text": [
            "Epoch 1/10\n",
            "\u001b[1m32/32\u001b[0m \u001b[32m━━━━━━━━━━━━━━━━━━━━\u001b[0m\u001b[37m\u001b[0m \u001b[1m2s\u001b[0m 15ms/step - loss: 0.2474 - val_loss: 0.0888\n",
            "Epoch 2/10\n",
            "\u001b[1m32/32\u001b[0m \u001b[32m━━━━━━━━━━━━━━━━━━━━\u001b[0m\u001b[37m\u001b[0m \u001b[1m0s\u001b[0m 7ms/step - loss: 0.0878 - val_loss: 0.0876\n",
            "Epoch 3/10\n",
            "\u001b[1m32/32\u001b[0m \u001b[32m━━━━━━━━━━━━━━━━━━━━\u001b[0m\u001b[37m\u001b[0m \u001b[1m0s\u001b[0m 7ms/step - loss: 0.0881 - val_loss: 0.0868\n",
            "Epoch 4/10\n",
            "\u001b[1m32/32\u001b[0m \u001b[32m━━━━━━━━━━━━━━━━━━━━\u001b[0m\u001b[37m\u001b[0m \u001b[1m0s\u001b[0m 8ms/step - loss: 0.0882 - val_loss: 0.0870\n",
            "Epoch 5/10\n",
            "\u001b[1m32/32\u001b[0m \u001b[32m━━━━━━━━━━━━━━━━━━━━\u001b[0m\u001b[37m\u001b[0m \u001b[1m0s\u001b[0m 8ms/step - loss: 0.0880 - val_loss: 0.0864\n",
            "Epoch 6/10\n",
            "\u001b[1m32/32\u001b[0m \u001b[32m━━━━━━━━━━━━━━━━━━━━\u001b[0m\u001b[37m\u001b[0m \u001b[1m0s\u001b[0m 8ms/step - loss: 0.0884 - val_loss: 0.0850\n",
            "Epoch 7/10\n",
            "\u001b[1m32/32\u001b[0m \u001b[32m━━━━━━━━━━━━━━━━━━━━\u001b[0m\u001b[37m\u001b[0m \u001b[1m0s\u001b[0m 8ms/step - loss: 0.0853 - val_loss: 0.0851\n",
            "Epoch 8/10\n",
            "\u001b[1m32/32\u001b[0m \u001b[32m━━━━━━━━━━━━━━━━━━━━\u001b[0m\u001b[37m\u001b[0m \u001b[1m0s\u001b[0m 8ms/step - loss: 0.0829 - val_loss: 0.0842\n",
            "Epoch 9/10\n",
            "\u001b[1m32/32\u001b[0m \u001b[32m━━━━━━━━━━━━━━━━━━━━\u001b[0m\u001b[37m\u001b[0m \u001b[1m0s\u001b[0m 8ms/step - loss: 0.0829 - val_loss: 0.0851\n",
            "Epoch 10/10\n",
            "\u001b[1m32/32\u001b[0m \u001b[32m━━━━━━━━━━━━━━━━━━━━\u001b[0m\u001b[37m\u001b[0m \u001b[1m0s\u001b[0m 8ms/step - loss: 0.0828 - val_loss: 0.0858\n",
            "\u001b[1m1/1\u001b[0m \u001b[32m━━━━━━━━━━━━━━━━━━━━\u001b[0m\u001b[37m\u001b[0m \u001b[1m0s\u001b[0m 186ms/step\n",
            "\u001b[1m32/32\u001b[0m \u001b[32m━━━━━━━━━━━━━━━━━━━━\u001b[0m\u001b[37m\u001b[0m \u001b[1m0s\u001b[0m 7ms/step\n",
            "\u001b[1m7/7\u001b[0m \u001b[32m━━━━━━━━━━━━━━━━━━━━\u001b[0m\u001b[37m\u001b[0m \u001b[1m0s\u001b[0m 6ms/step \n",
            "Hybrid Model MAE: 0.2508\n"
          ]
        }
      ],
      "source": [
        "import numpy as np\n",
        "import tensorflow as tf\n",
        "from tensorflow.keras.models import Model\n",
        "from tensorflow.keras.layers import LSTM, Dense, Input\n",
        "import xgboost as xgb\n",
        "from sklearn.metrics import mean_absolute_error\n",
        "\n",
        "# ✅ Step 1: Prepare Data\n",
        "X_train = np.random.rand(1000, 10, 1)  # Example: 1000 samples, 10 time-steps, 1 feature\n",
        "X_test = np.random.rand(200, 10, 1)\n",
        "y_train = np.random.rand(1000)\n",
        "y_test = np.random.rand(200)\n",
        "\n",
        "# ✅ Step 2: Define LSTM Model with Explicit Input Layer\n",
        "input_layer = Input(shape=(X_train.shape[1], X_train.shape[2]), name=\"lstm_input\")\n",
        "lstm_output = LSTM(64, return_sequences=False, name=\"lstm_features\")(input_layer)\n",
        "output_layer = Dense(1, activation=\"linear\")(lstm_output)\n",
        "\n",
        "model = Model(inputs=input_layer, outputs=output_layer)\n",
        "\n",
        "# ✅ Step 3: Compile & Train LSTM Model\n",
        "model.compile(optimizer=\"adam\", loss=\"mse\")\n",
        "model.fit(X_train, y_train, epochs=10, batch_size=32, validation_data=(X_test, y_test))\n",
        "\n",
        "# ✅ Step 4: Extract LSTM Features\n",
        "feature_extractor = Model(inputs=model.input, outputs=model.get_layer(\"lstm_features\").output)\n",
        "\n",
        "# 🔥 Fix: Run a Dummy Forward Pass to Initialize Model\n",
        "_ = model.predict(X_train[:1])  # Ensures model is initialized\n",
        "\n",
        "# Extract Features\n",
        "lstm_features_train = feature_extractor.predict(X_train)  # Shape: (num_samples, lstm_units)\n",
        "lstm_features_test = feature_extractor.predict(X_test)\n",
        "\n",
        "# Convert to 2D for XGBoost\n",
        "lstm_features_train = lstm_features_train.reshape(lstm_features_train.shape[0], -1)\n",
        "lstm_features_test = lstm_features_test.reshape(lstm_features_test.shape[0], -1)\n",
        "\n",
        "# ✅ Step 5: Train XGBoost Model\n",
        "xgb_model = xgb.XGBRegressor(objective=\"reg:squarederror\", n_estimators=100, learning_rate=0.1, max_depth=6)\n",
        "xgb_model.fit(lstm_features_train, y_train)\n",
        "\n",
        "# Make Predictions\n",
        "xgb_preds = xgb_model.predict(lstm_features_test)\n",
        "\n",
        "# Evaluate Performance\n",
        "hybrid_mae = mean_absolute_error(y_test, xgb_preds)\n",
        "print(f\"Hybrid Model MAE: {hybrid_mae:.4f}\")\n"
      ]
    },
    {
      "cell_type": "code",
      "execution_count": 32,
      "metadata": {
        "colab": {
          "base_uri": "https://localhost:8080/"
        },
        "id": "5iY8qKbOtdoL",
        "outputId": "8ad4eb8d-325a-4651-cc8b-ae2e0802caac"
      },
      "outputs": [
        {
          "ename": "NameError",
          "evalue": "name 'Adam' is not defined",
          "output_type": "error",
          "traceback": [
            "\u001b[1;31m---------------------------------------------------------------------------\u001b[0m",
            "\u001b[1;31mNameError\u001b[0m                                 Traceback (most recent call last)",
            "Cell \u001b[1;32mIn [32], line 12\u001b[0m\n\u001b[0;32m     10\u001b[0m \u001b[38;5;66;03m# Compile model\u001b[39;00m\n\u001b[0;32m     11\u001b[0m model \u001b[38;5;241m=\u001b[39m Model(inputs\u001b[38;5;241m=\u001b[39minput_layer, outputs\u001b[38;5;241m=\u001b[39moutput_layer)\n\u001b[1;32m---> 12\u001b[0m model\u001b[38;5;241m.\u001b[39mcompile(loss\u001b[38;5;241m=\u001b[39m\u001b[38;5;124m\"\u001b[39m\u001b[38;5;124mmse\u001b[39m\u001b[38;5;124m\"\u001b[39m, optimizer\u001b[38;5;241m=\u001b[39m\u001b[43mAdam\u001b[49m(learning_rate\u001b[38;5;241m=\u001b[39m\u001b[38;5;241m0.001\u001b[39m))\n\u001b[0;32m     14\u001b[0m \u001b[38;5;66;03m# Train LSTM\u001b[39;00m\n\u001b[0;32m     15\u001b[0m model\u001b[38;5;241m.\u001b[39mfit(X_train, y_train, epochs\u001b[38;5;241m=\u001b[39m\u001b[38;5;241m30\u001b[39m, batch_size\u001b[38;5;241m=\u001b[39m\u001b[38;5;241m32\u001b[39m, validation_split\u001b[38;5;241m=\u001b[39m\u001b[38;5;241m0.2\u001b[39m, verbose\u001b[38;5;241m=\u001b[39m\u001b[38;5;241m1\u001b[39m)\n",
            "\u001b[1;31mNameError\u001b[0m: name 'Adam' is not defined"
          ]
        }
      ],
      "source": [
        "# Define LSTM Model\n",
        "input_layer = Input(shape=(X_train.shape[1], X_train.shape[2]))\n",
        "x = LSTM(128, return_sequences=True, name=\"lstm_layer\")(input_layer)\n",
        "x = LSTM(64, return_sequences=False)(x)\n",
        "x = Dropout(0.1)(x)\n",
        "x = Dense(16, activation=\"relu\")(x)\n",
        "output_layer = Dense(1)(x)\n",
        "\n",
        "\n",
        "# Compile model\n",
        "model = Model(inputs=input_layer, outputs=output_layer)\n",
        "model.compile(loss=\"mse\", optimizer=Adam(learning_rate=0.001))\n",
        "\n",
        "# Train LSTM\n",
        "model.fit(X_train, y_train, epochs=30, batch_size=32, validation_split=0.2, verbose=1)\n"
      ]
    },
    {
      "cell_type": "code",
      "execution_count": 84,
      "metadata": {
        "colab": {
          "base_uri": "https://localhost:8080/"
        },
        "id": "cdzKeIHGwHNc",
        "outputId": "5229388c-80fc-45ea-8ec6-2ec70d6560b6"
      },
      "outputs": [
        {
          "name": "stdout",
          "output_type": "stream",
          "text": [
            "input_layer_12\n",
            "lstm_layer\n",
            "lstm_20\n",
            "dropout_7\n",
            "dense_22\n",
            "dense_23\n"
          ]
        }
      ],
      "source": [
        "for layer in model.layers:\n",
        "    print(layer.name)\n"
      ]
    },
    {
      "cell_type": "code",
      "execution_count": 86,
      "metadata": {},
      "outputs": [
        {
          "data": {
            "text/plain": [
              "<Functional name=functional_16, built=True>"
            ]
          },
          "execution_count": 86,
          "metadata": {},
          "output_type": "execute_result"
        }
      ],
      "source": [
        "feature_extractor = Model(inputs=model.input, outputs=model.get_layer(\"lstm_layer\").output)\n",
        "feature_extractor"
      ]
    },
    {
      "cell_type": "code",
      "execution_count": 87,
      "metadata": {},
      "outputs": [
        {
          "name": "stdout",
          "output_type": "stream",
          "text": [
            "\u001b[1m32/32\u001b[0m \u001b[32m━━━━━━━━━━━━━━━━━━━━\u001b[0m\u001b[37m\u001b[0m \u001b[1m0s\u001b[0m 8ms/step\n",
            "LSTM Feature Shape: (1000, 10, 128)\n"
          ]
        }
      ],
      "source": [
        "lstm_features = feature_extractor.predict(X_train)\n",
        "print(\"LSTM Feature Shape:\", lstm_features.shape)\n"
      ]
    },
    {
      "cell_type": "code",
      "execution_count": 91,
      "metadata": {},
      "outputs": [],
      "source": [
        "X_train_lstm = lstm_features.reshape(X_train.shape[0], -1)\n",
        "X_test_lstm = X_test_lstm.reshape(X_test_lstm.shape[0], -1)\n"
      ]
    },
    {
      "cell_type": "code",
      "execution_count": 92,
      "metadata": {},
      "outputs": [
        {
          "name": "stdout",
          "output_type": "stream",
          "text": [
            "X_train_lstm shape: (1000, 1280)\n",
            "X_test_lstm shape: (441, 100)\n"
          ]
        }
      ],
      "source": [
        "print(\"X_train_lstm shape:\", X_train_lstm.shape)  # Should be (samples, features)\n",
        "print(\"X_test_lstm shape:\", X_test_lstm.shape)    # Should match X_train_lstm\n"
      ]
    },
    {
      "cell_type": "code",
      "execution_count": 94,
      "metadata": {},
      "outputs": [
        {
          "name": "stdout",
          "output_type": "stream",
          "text": [
            "\u001b[1m32/32\u001b[0m \u001b[32m━━━━━━━━━━━━━━━━━━━━\u001b[0m\u001b[37m\u001b[0m \u001b[1m1s\u001b[0m 12ms/step\n",
            "\u001b[1m7/7\u001b[0m \u001b[32m━━━━━━━━━━━━━━━━━━━━\u001b[0m\u001b[37m\u001b[0m \u001b[1m0s\u001b[0m 8ms/step \n"
          ]
        }
      ],
      "source": [
        "feature_extractor = Model(inputs=model.input, outputs=model.get_layer(\"lstm_layer\").output)\n",
        "\n",
        "X_train_lstm = feature_extractor.predict(X_train).reshape(X_train.shape[0], -1)\n",
        "X_test_lstm = feature_extractor.predict(X_test).reshape(X_test.shape[0], -1)\n"
      ]
    },
    {
      "cell_type": "code",
      "execution_count": 95,
      "metadata": {},
      "outputs": [
        {
          "name": "stdout",
          "output_type": "stream",
          "text": [
            "X_train_lstm shape: (1000, 1280)\n",
            "X_test_lstm shape: (200, 1280)\n"
          ]
        }
      ],
      "source": [
        "print(\"X_train_lstm shape:\", X_train_lstm.shape)\n",
        "print(\"X_test_lstm shape:\", X_test_lstm.shape)\n"
      ]
    },
    {
      "cell_type": "code",
      "execution_count": 96,
      "metadata": {
        "colab": {
          "base_uri": "https://localhost:8080/"
        },
        "id": "pj3wf_AHtflD",
        "outputId": "df9fb70d-3c35-40ee-9392-24d36e18f9f1"
      },
      "outputs": [
        {
          "name": "stdout",
          "output_type": "stream",
          "text": [
            "Hybrid Model MAE: 0.2463\n"
          ]
        }
      ],
      "source": [
        "\n",
        "xgb_model = xgb.XGBRegressor(\n",
        "    objective=\"reg:squarederror\",\n",
        "    n_estimators=500,   # Increase estimators\n",
        "    learning_rate=0.03, # Lower learning rate\n",
        "    max_depth=7,        # Increase depth slightly\n",
        "    subsample=0.9,      # Slightly higher subsampling\n",
        "    colsample_bytree=0.9,\n",
        "    random_state=42\n",
        ")\n",
        "\n",
        "xgb_model.fit(X_train_lstm, y_train)\n",
        "\n",
        "# Make predictions\n",
        "y_pred = xgb_model.predict(X_test_lstm)\n",
        "\n",
        "# Evaluate performance\n",
        "mae = mean_absolute_error(y_test, y_pred)\n",
        "print(f\"Hybrid Model MAE: {mae:.4f}\")\n"
      ]
    },
    {
      "cell_type": "code",
      "execution_count": 97,
      "metadata": {
        "colab": {
          "base_uri": "https://localhost:8080/"
        },
        "id": "vJEpoBpE0jWG",
        "outputId": "699e757b-5bc7-43a3-c799-8f8b6a904509"
      },
      "outputs": [
        {
          "data": {
            "text/plain": [
              "['xgboost_model.pkl']"
            ]
          },
          "execution_count": 97,
          "metadata": {},
          "output_type": "execute_result"
        }
      ],
      "source": [
        "import joblib\n",
        "import tensorflow as tf\n",
        "\n",
        "# Save LSTM model in the new Keras format\n",
        "model.save(\"hybrid_lstm_xgboost.keras\")  # Instead of .h5\n",
        "\n",
        "# Save XGBoost model\n",
        "joblib.dump(xgb_model, \"xgboost_model.pkl\")\n"
      ]
    },
    {
      "cell_type": "code",
      "execution_count": 4,
      "metadata": {},
      "outputs": [
        {
          "ename": "ValueError",
          "evalue": "could not convert string to float: 'AAPL'",
          "output_type": "error",
          "traceback": [
            "\u001b[1;31m---------------------------------------------------------------------------\u001b[0m",
            "\u001b[1;31mValueError\u001b[0m                                Traceback (most recent call last)",
            "Cell \u001b[1;32mIn [4], line 17\u001b[0m\n\u001b[0;32m     15\u001b[0m \u001b[38;5;66;03m# Normalize Data (for better LSTM training)\u001b[39;00m\n\u001b[0;32m     16\u001b[0m scaler \u001b[38;5;241m=\u001b[39m MinMaxScaler()\n\u001b[1;32m---> 17\u001b[0m df[features] \u001b[38;5;241m=\u001b[39m \u001b[43mscaler\u001b[49m\u001b[38;5;241;43m.\u001b[39;49m\u001b[43mfit_transform\u001b[49m\u001b[43m(\u001b[49m\u001b[43mdf\u001b[49m\u001b[43m[\u001b[49m\u001b[43mfeatures\u001b[49m\u001b[43m]\u001b[49m\u001b[43m)\u001b[49m\n\u001b[0;32m     18\u001b[0m df[target] \u001b[38;5;241m=\u001b[39m scaler\u001b[38;5;241m.\u001b[39mfit_transform(df[[target]])\n\u001b[0;32m     20\u001b[0m \u001b[38;5;66;03m# ✅ Create Sequences for LSTM\u001b[39;00m\n",
            "File \u001b[1;32mc:\\Users\\Sakshi\\Anaconda3\\envs\\tf_env\\lib\\site-packages\\sklearn\\utils\\_set_output.py:319\u001b[0m, in \u001b[0;36m_wrap_method_output.<locals>.wrapped\u001b[1;34m(self, X, *args, **kwargs)\u001b[0m\n\u001b[0;32m    317\u001b[0m \u001b[38;5;129m@wraps\u001b[39m(f)\n\u001b[0;32m    318\u001b[0m \u001b[38;5;28;01mdef\u001b[39;00m \u001b[38;5;21mwrapped\u001b[39m(\u001b[38;5;28mself\u001b[39m, X, \u001b[38;5;241m*\u001b[39margs, \u001b[38;5;241m*\u001b[39m\u001b[38;5;241m*\u001b[39mkwargs):\n\u001b[1;32m--> 319\u001b[0m     data_to_wrap \u001b[38;5;241m=\u001b[39m f(\u001b[38;5;28mself\u001b[39m, X, \u001b[38;5;241m*\u001b[39margs, \u001b[38;5;241m*\u001b[39m\u001b[38;5;241m*\u001b[39mkwargs)\n\u001b[0;32m    320\u001b[0m     \u001b[38;5;28;01mif\u001b[39;00m \u001b[38;5;28misinstance\u001b[39m(data_to_wrap, \u001b[38;5;28mtuple\u001b[39m):\n\u001b[0;32m    321\u001b[0m         \u001b[38;5;66;03m# only wrap the first output for cross decomposition\u001b[39;00m\n\u001b[0;32m    322\u001b[0m         return_tuple \u001b[38;5;241m=\u001b[39m (\n\u001b[0;32m    323\u001b[0m             _wrap_data_with_container(method, data_to_wrap[\u001b[38;5;241m0\u001b[39m], X, \u001b[38;5;28mself\u001b[39m),\n\u001b[0;32m    324\u001b[0m             \u001b[38;5;241m*\u001b[39mdata_to_wrap[\u001b[38;5;241m1\u001b[39m:],\n\u001b[0;32m    325\u001b[0m         )\n",
            "File \u001b[1;32mc:\\Users\\Sakshi\\Anaconda3\\envs\\tf_env\\lib\\site-packages\\sklearn\\base.py:918\u001b[0m, in \u001b[0;36mTransformerMixin.fit_transform\u001b[1;34m(self, X, y, **fit_params)\u001b[0m\n\u001b[0;32m    903\u001b[0m         warnings\u001b[38;5;241m.\u001b[39mwarn(\n\u001b[0;32m    904\u001b[0m             (\n\u001b[0;32m    905\u001b[0m                 \u001b[38;5;124mf\u001b[39m\u001b[38;5;124m\"\u001b[39m\u001b[38;5;124mThis object (\u001b[39m\u001b[38;5;132;01m{\u001b[39;00m\u001b[38;5;28mself\u001b[39m\u001b[38;5;241m.\u001b[39m\u001b[38;5;18m__class__\u001b[39m\u001b[38;5;241m.\u001b[39m\u001b[38;5;18m__name__\u001b[39m\u001b[38;5;132;01m}\u001b[39;00m\u001b[38;5;124m) has a `transform`\u001b[39m\u001b[38;5;124m\"\u001b[39m\n\u001b[1;32m   (...)\u001b[0m\n\u001b[0;32m    913\u001b[0m             \u001b[38;5;167;01mUserWarning\u001b[39;00m,\n\u001b[0;32m    914\u001b[0m         )\n\u001b[0;32m    916\u001b[0m \u001b[38;5;28;01mif\u001b[39;00m y \u001b[38;5;129;01mis\u001b[39;00m \u001b[38;5;28;01mNone\u001b[39;00m:\n\u001b[0;32m    917\u001b[0m     \u001b[38;5;66;03m# fit method of arity 1 (unsupervised transformation)\u001b[39;00m\n\u001b[1;32m--> 918\u001b[0m     \u001b[38;5;28;01mreturn\u001b[39;00m \u001b[38;5;28mself\u001b[39m\u001b[38;5;241m.\u001b[39mfit(X, \u001b[38;5;241m*\u001b[39m\u001b[38;5;241m*\u001b[39mfit_params)\u001b[38;5;241m.\u001b[39mtransform(X)\n\u001b[0;32m    919\u001b[0m \u001b[38;5;28;01melse\u001b[39;00m:\n\u001b[0;32m    920\u001b[0m     \u001b[38;5;66;03m# fit method of arity 2 (supervised transformation)\u001b[39;00m\n\u001b[0;32m    921\u001b[0m     \u001b[38;5;28;01mreturn\u001b[39;00m \u001b[38;5;28mself\u001b[39m\u001b[38;5;241m.\u001b[39mfit(X, y, \u001b[38;5;241m*\u001b[39m\u001b[38;5;241m*\u001b[39mfit_params)\u001b[38;5;241m.\u001b[39mtransform(X)\n",
            "File \u001b[1;32mc:\\Users\\Sakshi\\Anaconda3\\envs\\tf_env\\lib\\site-packages\\sklearn\\preprocessing\\_data.py:447\u001b[0m, in \u001b[0;36mMinMaxScaler.fit\u001b[1;34m(self, X, y)\u001b[0m\n\u001b[0;32m    445\u001b[0m \u001b[38;5;66;03m# Reset internal state before fitting\u001b[39;00m\n\u001b[0;32m    446\u001b[0m \u001b[38;5;28mself\u001b[39m\u001b[38;5;241m.\u001b[39m_reset()\n\u001b[1;32m--> 447\u001b[0m \u001b[38;5;28;01mreturn\u001b[39;00m \u001b[38;5;28;43mself\u001b[39;49m\u001b[38;5;241;43m.\u001b[39;49m\u001b[43mpartial_fit\u001b[49m\u001b[43m(\u001b[49m\u001b[43mX\u001b[49m\u001b[43m,\u001b[49m\u001b[43m \u001b[49m\u001b[43my\u001b[49m\u001b[43m)\u001b[49m\n",
            "File \u001b[1;32mc:\\Users\\Sakshi\\Anaconda3\\envs\\tf_env\\lib\\site-packages\\sklearn\\base.py:1389\u001b[0m, in \u001b[0;36m_fit_context.<locals>.decorator.<locals>.wrapper\u001b[1;34m(estimator, *args, **kwargs)\u001b[0m\n\u001b[0;32m   1382\u001b[0m     estimator\u001b[38;5;241m.\u001b[39m_validate_params()\n\u001b[0;32m   1384\u001b[0m \u001b[38;5;28;01mwith\u001b[39;00m config_context(\n\u001b[0;32m   1385\u001b[0m     skip_parameter_validation\u001b[38;5;241m=\u001b[39m(\n\u001b[0;32m   1386\u001b[0m         prefer_skip_nested_validation \u001b[38;5;129;01mor\u001b[39;00m global_skip_validation\n\u001b[0;32m   1387\u001b[0m     )\n\u001b[0;32m   1388\u001b[0m ):\n\u001b[1;32m-> 1389\u001b[0m     \u001b[38;5;28;01mreturn\u001b[39;00m fit_method(estimator, \u001b[38;5;241m*\u001b[39margs, \u001b[38;5;241m*\u001b[39m\u001b[38;5;241m*\u001b[39mkwargs)\n",
            "File \u001b[1;32mc:\\Users\\Sakshi\\Anaconda3\\envs\\tf_env\\lib\\site-packages\\sklearn\\preprocessing\\_data.py:487\u001b[0m, in \u001b[0;36mMinMaxScaler.partial_fit\u001b[1;34m(self, X, y)\u001b[0m\n\u001b[0;32m    484\u001b[0m xp, _ \u001b[38;5;241m=\u001b[39m get_namespace(X)\n\u001b[0;32m    486\u001b[0m first_pass \u001b[38;5;241m=\u001b[39m \u001b[38;5;129;01mnot\u001b[39;00m \u001b[38;5;28mhasattr\u001b[39m(\u001b[38;5;28mself\u001b[39m, \u001b[38;5;124m\"\u001b[39m\u001b[38;5;124mn_samples_seen_\u001b[39m\u001b[38;5;124m\"\u001b[39m)\n\u001b[1;32m--> 487\u001b[0m X \u001b[38;5;241m=\u001b[39m \u001b[43mvalidate_data\u001b[49m\u001b[43m(\u001b[49m\n\u001b[0;32m    488\u001b[0m \u001b[43m    \u001b[49m\u001b[38;5;28;43mself\u001b[39;49m\u001b[43m,\u001b[49m\n\u001b[0;32m    489\u001b[0m \u001b[43m    \u001b[49m\u001b[43mX\u001b[49m\u001b[43m,\u001b[49m\n\u001b[0;32m    490\u001b[0m \u001b[43m    \u001b[49m\u001b[43mreset\u001b[49m\u001b[38;5;241;43m=\u001b[39;49m\u001b[43mfirst_pass\u001b[49m\u001b[43m,\u001b[49m\n\u001b[0;32m    491\u001b[0m \u001b[43m    \u001b[49m\u001b[43mdtype\u001b[49m\u001b[38;5;241;43m=\u001b[39;49m\u001b[43m_array_api\u001b[49m\u001b[38;5;241;43m.\u001b[39;49m\u001b[43msupported_float_dtypes\u001b[49m\u001b[43m(\u001b[49m\u001b[43mxp\u001b[49m\u001b[43m)\u001b[49m\u001b[43m,\u001b[49m\n\u001b[0;32m    492\u001b[0m \u001b[43m    \u001b[49m\u001b[43mensure_all_finite\u001b[49m\u001b[38;5;241;43m=\u001b[39;49m\u001b[38;5;124;43m\"\u001b[39;49m\u001b[38;5;124;43mallow-nan\u001b[39;49m\u001b[38;5;124;43m\"\u001b[39;49m\u001b[43m,\u001b[49m\n\u001b[0;32m    493\u001b[0m \u001b[43m\u001b[49m\u001b[43m)\u001b[49m\n\u001b[0;32m    495\u001b[0m data_min \u001b[38;5;241m=\u001b[39m _array_api\u001b[38;5;241m.\u001b[39m_nanmin(X, axis\u001b[38;5;241m=\u001b[39m\u001b[38;5;241m0\u001b[39m, xp\u001b[38;5;241m=\u001b[39mxp)\n\u001b[0;32m    496\u001b[0m data_max \u001b[38;5;241m=\u001b[39m _array_api\u001b[38;5;241m.\u001b[39m_nanmax(X, axis\u001b[38;5;241m=\u001b[39m\u001b[38;5;241m0\u001b[39m, xp\u001b[38;5;241m=\u001b[39mxp)\n",
            "File \u001b[1;32mc:\\Users\\Sakshi\\Anaconda3\\envs\\tf_env\\lib\\site-packages\\sklearn\\utils\\validation.py:2944\u001b[0m, in \u001b[0;36mvalidate_data\u001b[1;34m(_estimator, X, y, reset, validate_separately, skip_check_array, **check_params)\u001b[0m\n\u001b[0;32m   2942\u001b[0m         out \u001b[38;5;241m=\u001b[39m X, y\n\u001b[0;32m   2943\u001b[0m \u001b[38;5;28;01melif\u001b[39;00m \u001b[38;5;129;01mnot\u001b[39;00m no_val_X \u001b[38;5;129;01mand\u001b[39;00m no_val_y:\n\u001b[1;32m-> 2944\u001b[0m     out \u001b[38;5;241m=\u001b[39m check_array(X, input_name\u001b[38;5;241m=\u001b[39m\u001b[38;5;124m\"\u001b[39m\u001b[38;5;124mX\u001b[39m\u001b[38;5;124m\"\u001b[39m, \u001b[38;5;241m*\u001b[39m\u001b[38;5;241m*\u001b[39mcheck_params)\n\u001b[0;32m   2945\u001b[0m \u001b[38;5;28;01melif\u001b[39;00m no_val_X \u001b[38;5;129;01mand\u001b[39;00m \u001b[38;5;129;01mnot\u001b[39;00m no_val_y:\n\u001b[0;32m   2946\u001b[0m     out \u001b[38;5;241m=\u001b[39m _check_y(y, \u001b[38;5;241m*\u001b[39m\u001b[38;5;241m*\u001b[39mcheck_params)\n",
            "File \u001b[1;32mc:\\Users\\Sakshi\\Anaconda3\\envs\\tf_env\\lib\\site-packages\\sklearn\\utils\\validation.py:1055\u001b[0m, in \u001b[0;36mcheck_array\u001b[1;34m(array, accept_sparse, accept_large_sparse, dtype, order, copy, force_writeable, force_all_finite, ensure_all_finite, ensure_non_negative, ensure_2d, allow_nd, ensure_min_samples, ensure_min_features, estimator, input_name)\u001b[0m\n\u001b[0;32m   1053\u001b[0m         array \u001b[38;5;241m=\u001b[39m xp\u001b[38;5;241m.\u001b[39mastype(array, dtype, copy\u001b[38;5;241m=\u001b[39m\u001b[38;5;28;01mFalse\u001b[39;00m)\n\u001b[0;32m   1054\u001b[0m     \u001b[38;5;28;01melse\u001b[39;00m:\n\u001b[1;32m-> 1055\u001b[0m         array \u001b[38;5;241m=\u001b[39m \u001b[43m_asarray_with_order\u001b[49m\u001b[43m(\u001b[49m\u001b[43marray\u001b[49m\u001b[43m,\u001b[49m\u001b[43m \u001b[49m\u001b[43morder\u001b[49m\u001b[38;5;241;43m=\u001b[39;49m\u001b[43morder\u001b[49m\u001b[43m,\u001b[49m\u001b[43m \u001b[49m\u001b[43mdtype\u001b[49m\u001b[38;5;241;43m=\u001b[39;49m\u001b[43mdtype\u001b[49m\u001b[43m,\u001b[49m\u001b[43m \u001b[49m\u001b[43mxp\u001b[49m\u001b[38;5;241;43m=\u001b[39;49m\u001b[43mxp\u001b[49m\u001b[43m)\u001b[49m\n\u001b[0;32m   1056\u001b[0m \u001b[38;5;28;01mexcept\u001b[39;00m ComplexWarning \u001b[38;5;28;01mas\u001b[39;00m complex_warning:\n\u001b[0;32m   1057\u001b[0m     \u001b[38;5;28;01mraise\u001b[39;00m \u001b[38;5;167;01mValueError\u001b[39;00m(\n\u001b[0;32m   1058\u001b[0m         \u001b[38;5;124m\"\u001b[39m\u001b[38;5;124mComplex data not supported\u001b[39m\u001b[38;5;130;01m\\n\u001b[39;00m\u001b[38;5;132;01m{}\u001b[39;00m\u001b[38;5;130;01m\\n\u001b[39;00m\u001b[38;5;124m\"\u001b[39m\u001b[38;5;241m.\u001b[39mformat(array)\n\u001b[0;32m   1059\u001b[0m     ) \u001b[38;5;28;01mfrom\u001b[39;00m \u001b[38;5;21;01mcomplex_warning\u001b[39;00m\n",
            "File \u001b[1;32mc:\\Users\\Sakshi\\Anaconda3\\envs\\tf_env\\lib\\site-packages\\sklearn\\utils\\_array_api.py:839\u001b[0m, in \u001b[0;36m_asarray_with_order\u001b[1;34m(array, dtype, order, copy, xp, device)\u001b[0m\n\u001b[0;32m    837\u001b[0m     array \u001b[38;5;241m=\u001b[39m numpy\u001b[38;5;241m.\u001b[39marray(array, order\u001b[38;5;241m=\u001b[39morder, dtype\u001b[38;5;241m=\u001b[39mdtype)\n\u001b[0;32m    838\u001b[0m \u001b[38;5;28;01melse\u001b[39;00m:\n\u001b[1;32m--> 839\u001b[0m     array \u001b[38;5;241m=\u001b[39m \u001b[43mnumpy\u001b[49m\u001b[38;5;241;43m.\u001b[39;49m\u001b[43masarray\u001b[49m\u001b[43m(\u001b[49m\u001b[43marray\u001b[49m\u001b[43m,\u001b[49m\u001b[43m \u001b[49m\u001b[43morder\u001b[49m\u001b[38;5;241;43m=\u001b[39;49m\u001b[43morder\u001b[49m\u001b[43m,\u001b[49m\u001b[43m \u001b[49m\u001b[43mdtype\u001b[49m\u001b[38;5;241;43m=\u001b[39;49m\u001b[43mdtype\u001b[49m\u001b[43m)\u001b[49m\n\u001b[0;32m    841\u001b[0m \u001b[38;5;66;03m# At this point array is a NumPy ndarray. We convert it to an array\u001b[39;00m\n\u001b[0;32m    842\u001b[0m \u001b[38;5;66;03m# container that is consistent with the input's namespace.\u001b[39;00m\n\u001b[0;32m    843\u001b[0m \u001b[38;5;28;01mreturn\u001b[39;00m xp\u001b[38;5;241m.\u001b[39masarray(array)\n",
            "File \u001b[1;32mc:\\Users\\Sakshi\\Anaconda3\\envs\\tf_env\\lib\\site-packages\\pandas\\core\\generic.py:2153\u001b[0m, in \u001b[0;36mNDFrame.__array__\u001b[1;34m(self, dtype, copy)\u001b[0m\n\u001b[0;32m   2149\u001b[0m \u001b[38;5;28;01mdef\u001b[39;00m \u001b[38;5;21m__array__\u001b[39m(\n\u001b[0;32m   2150\u001b[0m     \u001b[38;5;28mself\u001b[39m, dtype: npt\u001b[38;5;241m.\u001b[39mDTypeLike \u001b[38;5;241m|\u001b[39m \u001b[38;5;28;01mNone\u001b[39;00m \u001b[38;5;241m=\u001b[39m \u001b[38;5;28;01mNone\u001b[39;00m, copy: bool_t \u001b[38;5;241m|\u001b[39m \u001b[38;5;28;01mNone\u001b[39;00m \u001b[38;5;241m=\u001b[39m \u001b[38;5;28;01mNone\u001b[39;00m\n\u001b[0;32m   2151\u001b[0m ) \u001b[38;5;241m-\u001b[39m\u001b[38;5;241m>\u001b[39m np\u001b[38;5;241m.\u001b[39mndarray:\n\u001b[0;32m   2152\u001b[0m     values \u001b[38;5;241m=\u001b[39m \u001b[38;5;28mself\u001b[39m\u001b[38;5;241m.\u001b[39m_values\n\u001b[1;32m-> 2153\u001b[0m     arr \u001b[38;5;241m=\u001b[39m \u001b[43mnp\u001b[49m\u001b[38;5;241;43m.\u001b[39;49m\u001b[43masarray\u001b[49m\u001b[43m(\u001b[49m\u001b[43mvalues\u001b[49m\u001b[43m,\u001b[49m\u001b[43m \u001b[49m\u001b[43mdtype\u001b[49m\u001b[38;5;241;43m=\u001b[39;49m\u001b[43mdtype\u001b[49m\u001b[43m)\u001b[49m\n\u001b[0;32m   2154\u001b[0m     \u001b[38;5;28;01mif\u001b[39;00m (\n\u001b[0;32m   2155\u001b[0m         astype_is_view(values\u001b[38;5;241m.\u001b[39mdtype, arr\u001b[38;5;241m.\u001b[39mdtype)\n\u001b[0;32m   2156\u001b[0m         \u001b[38;5;129;01mand\u001b[39;00m using_copy_on_write()\n\u001b[0;32m   2157\u001b[0m         \u001b[38;5;129;01mand\u001b[39;00m \u001b[38;5;28mself\u001b[39m\u001b[38;5;241m.\u001b[39m_mgr\u001b[38;5;241m.\u001b[39mis_single_block\n\u001b[0;32m   2158\u001b[0m     ):\n\u001b[0;32m   2159\u001b[0m         \u001b[38;5;66;03m# Check if both conversions can be done without a copy\u001b[39;00m\n\u001b[0;32m   2160\u001b[0m         \u001b[38;5;28;01mif\u001b[39;00m astype_is_view(\u001b[38;5;28mself\u001b[39m\u001b[38;5;241m.\u001b[39mdtypes\u001b[38;5;241m.\u001b[39miloc[\u001b[38;5;241m0\u001b[39m], values\u001b[38;5;241m.\u001b[39mdtype) \u001b[38;5;129;01mand\u001b[39;00m astype_is_view(\n\u001b[0;32m   2161\u001b[0m             values\u001b[38;5;241m.\u001b[39mdtype, arr\u001b[38;5;241m.\u001b[39mdtype\n\u001b[0;32m   2162\u001b[0m         ):\n",
            "\u001b[1;31mValueError\u001b[0m: could not convert string to float: 'AAPL'"
          ]
        }
      ],
      "source": [
        "import numpy as np\n",
        "import pandas as pd\n",
        "import tensorflow as tf\n",
        "from tensorflow.keras.models import Model\n",
        "from tensorflow.keras.layers import LSTM, Dense, Input\n",
        "import xgboost as xgb\n",
        "from sklearn.metrics import mean_absolute_error\n",
        "from sklearn.preprocessing import MinMaxScaler\n",
        "\n",
        "\n",
        "# Normalize Data (for better LSTM training)\n",
        "scaler = MinMaxScaler()\n",
        "df[features] = scaler.fit_transform(df[features])\n",
        "df[target] = scaler.fit_transform(df[[target]])\n",
        "\n",
        "# ✅ Create Sequences for LSTM\n",
        "def create_sequences(data, target_col, n_steps):\n",
        "    X, y = [], []\n",
        "    for i in range(len(data) - n_steps):\n",
        "        X.append(data[i : i + n_steps])  # Past `n_steps` data\n",
        "        y.append(data[i + n_steps, target_col])  # Target is `Close`\n",
        "    return np.array(X), np.array(y)\n",
        "\n",
        "n_steps = 10  # Use 10 past days for predictions\n",
        "feature_cols = df[features].values  # Use selected stock features\n",
        "\n",
        "X, y = create_sequences(feature_cols, target_col=df.columns.get_loc(target), n_steps=n_steps)\n",
        "\n",
        "# ✅ Train-Test Split\n",
        "split = int(0.8 * len(X))\n",
        "X_train, X_test = X[:split], X[split:]\n",
        "y_train, y_test = y[:split], y[split:]\n",
        "\n",
        "# ✅ Define & Train LSTM Model\n",
        "input_layer = Input(shape=(X_train.shape[1], X_train.shape[2]), name=\"lstm_input\")\n",
        "lstm_output = LSTM(64, return_sequences=False, name=\"lstm_features\")(input_layer)\n",
        "output_layer = Dense(1, activation=\"linear\")(lstm_output)\n",
        "\n",
        "model = Model(inputs=input_layer, outputs=output_layer)\n",
        "model.compile(optimizer=\"adam\", loss=\"mse\")\n",
        "\n",
        "model.fit(X_train, y_train, epochs=20, batch_size=32, validation_data=(X_test, y_test))\n",
        "\n",
        "# ✅ Extract LSTM Features\n",
        "feature_extractor = Model(inputs=model.input, outputs=model.get_layer(\"lstm_features\").output)\n",
        "\n",
        "lstm_features_train = feature_extractor.predict(X_train)\n",
        "lstm_features_test = feature_extractor.predict(X_test)\n",
        "\n",
        "# Convert to 2D for XGBoost\n",
        "lstm_features_train = lstm_features_train.reshape(lstm_features_train.shape[0], -1)\n",
        "lstm_features_test = lstm_features_test.reshape(lstm_features_test.shape[0], -1)\n",
        "\n",
        "# ✅ Train XGBoost Model (Only LSTM Features)\n",
        "xgb_model = xgb.XGBRegressor(objective=\"reg:squarederror\", n_estimators=100, learning_rate=0.1, max_depth=6)\n",
        "xgb_model.fit(lstm_features_train, y_train)\n",
        "\n",
        "# Predictions & Evaluation\n",
        "xgb_preds = xgb_model.predict(lstm_features_test)\n",
        "hybrid_mae = mean_absolute_error(y_test, xgb_preds)\n",
        "\n",
        "print(f\"🚀 Hybrid Model MAE (Real Stock Data): {hybrid_mae:.4f}\")\n"
      ]
    },
    {
      "cell_type": "code",
      "execution_count": 33,
      "metadata": {},
      "outputs": [
        {
          "name": "stdout",
          "output_type": "stream",
          "text": [
            "X_train shape: (960, 10, 1), X_test shape: (240, 10, 1)\n"
          ]
        }
      ],
      "source": [
        "# ========================\n",
        "# ✅ 1. Import Dependencies\n",
        "# ========================\n",
        "import numpy as np\n",
        "import tensorflow as tf\n",
        "from tensorflow.keras.models import Model\n",
        "from tensorflow.keras.layers import LSTM, Dense, Dropout, Input\n",
        "from tensorflow.keras.optimizers import Adam\n",
        "import xgboost as xgb\n",
        "from sklearn.metrics import mean_absolute_error\n",
        "from sklearn.model_selection import train_test_split, cross_val_score\n",
        "\n",
        "# ========================\n",
        "# ✅ 2. Data Preparation\n",
        "# ========================\n",
        "# Simulating example stock price data (Use real dataset here)\n",
        "np.random.seed(42)\n",
        "X = np.random.rand(1200, 10, 1)  # 1200 samples, 10 time-steps, 1 feature\n",
        "y = np.random.rand(1200)  # Target variable (stock closing price)\n",
        "\n",
        "# Train-test split\n",
        "X_train, X_test, y_train, y_test = train_test_split(X, y, test_size=0.2, shuffle=False)\n",
        "\n",
        "print(f\"X_train shape: {X_train.shape}, X_test shape: {X_test.shape}\")\n",
        "\n"
      ]
    },
    {
      "cell_type": "code",
      "execution_count": 34,
      "metadata": {},
      "outputs": [
        {
          "name": "stdout",
          "output_type": "stream",
          "text": [
            "XGBoost-Only Model MAE: 0.2738\n"
          ]
        }
      ],
      "source": [
        "# ========================\n",
        "# ✅ 3. XGBoost-Only Model\n",
        "# ========================\n",
        "# Flatten the 3D input data to 2D for XGBoost\n",
        "X_train_xgb = X_train.reshape(X_train.shape[0], -1)\n",
        "X_test_xgb = X_test.reshape(X_test.shape[0], -1)\n",
        "\n",
        "# Define XGBoost Model\n",
        "xgb_model = xgb.XGBRegressor(\n",
        "    objective=\"reg:squarederror\",\n",
        "    n_estimators=400,\n",
        "    learning_rate=0.04,\n",
        "    max_depth=6,\n",
        "    subsample=0.9,\n",
        "    colsample_bytree=0.9,\n",
        "    random_state=42\n",
        ")\n",
        "\n",
        "# Train XGBoost Model\n",
        "xgb_model.fit(X_train_xgb, y_train)\n",
        "\n",
        "# Predict\n",
        "y_pred_xgb = xgb_model.predict(X_test_xgb)\n",
        "\n",
        "# Evaluate\n",
        "mae_xgb = mean_absolute_error(y_test, y_pred_xgb)\n",
        "print(f\"XGBoost-Only Model MAE: {mae_xgb:.4f}\")\n",
        "\n"
      ]
    },
    {
      "cell_type": "code",
      "execution_count": 35,
      "metadata": {},
      "outputs": [
        {
          "name": "stdout",
          "output_type": "stream",
          "text": [
            "Epoch 1/30\n",
            "\u001b[1m24/24\u001b[0m \u001b[32m━━━━━━━━━━━━━━━━━━━━\u001b[0m\u001b[37m\u001b[0m \u001b[1m3s\u001b[0m 28ms/step - loss: 0.1692 - val_loss: 0.0834\n",
            "Epoch 2/30\n",
            "\u001b[1m24/24\u001b[0m \u001b[32m━━━━━━━━━━━━━━━━━━━━\u001b[0m\u001b[37m\u001b[0m \u001b[1m0s\u001b[0m 13ms/step - loss: 0.0851 - val_loss: 0.0796\n",
            "Epoch 3/30\n",
            "\u001b[1m24/24\u001b[0m \u001b[32m━━━━━━━━━━━━━━━━━━━━\u001b[0m\u001b[37m\u001b[0m \u001b[1m0s\u001b[0m 13ms/step - loss: 0.0865 - val_loss: 0.0788\n",
            "Epoch 4/30\n",
            "\u001b[1m24/24\u001b[0m \u001b[32m━━━━━━━━━━━━━━━━━━━━\u001b[0m\u001b[37m\u001b[0m \u001b[1m0s\u001b[0m 12ms/step - loss: 0.0826 - val_loss: 0.0797\n",
            "Epoch 5/30\n",
            "\u001b[1m24/24\u001b[0m \u001b[32m━━━━━━━━━━━━━━━━━━━━\u001b[0m\u001b[37m\u001b[0m \u001b[1m0s\u001b[0m 12ms/step - loss: 0.0881 - val_loss: 0.0797\n",
            "Epoch 6/30\n",
            "\u001b[1m24/24\u001b[0m \u001b[32m━━━━━━━━━━━━━━━━━━━━\u001b[0m\u001b[37m\u001b[0m \u001b[1m0s\u001b[0m 14ms/step - loss: 0.0824 - val_loss: 0.0794\n",
            "Epoch 7/30\n",
            "\u001b[1m24/24\u001b[0m \u001b[32m━━━━━━━━━━━━━━━━━━━━\u001b[0m\u001b[37m\u001b[0m \u001b[1m0s\u001b[0m 15ms/step - loss: 0.0857 - val_loss: 0.0781\n",
            "Epoch 8/30\n",
            "\u001b[1m24/24\u001b[0m \u001b[32m━━━━━━━━━━━━━━━━━━━━\u001b[0m\u001b[37m\u001b[0m \u001b[1m1s\u001b[0m 21ms/step - loss: 0.0839 - val_loss: 0.0787\n",
            "Epoch 9/30\n",
            "\u001b[1m24/24\u001b[0m \u001b[32m━━━━━━━━━━━━━━━━━━━━\u001b[0m\u001b[37m\u001b[0m \u001b[1m1s\u001b[0m 29ms/step - loss: 0.0845 - val_loss: 0.0815\n",
            "Epoch 10/30\n",
            "\u001b[1m24/24\u001b[0m \u001b[32m━━━━━━━━━━━━━━━━━━━━\u001b[0m\u001b[37m\u001b[0m \u001b[1m1s\u001b[0m 54ms/step - loss: 0.0812 - val_loss: 0.0788\n",
            "Epoch 11/30\n",
            "\u001b[1m24/24\u001b[0m \u001b[32m━━━━━━━━━━━━━━━━━━━━\u001b[0m\u001b[37m\u001b[0m \u001b[1m1s\u001b[0m 46ms/step - loss: 0.0843 - val_loss: 0.0786\n",
            "Epoch 12/30\n",
            "\u001b[1m24/24\u001b[0m \u001b[32m━━━━━━━━━━━━━━━━━━━━\u001b[0m\u001b[37m\u001b[0m \u001b[1m0s\u001b[0m 13ms/step - loss: 0.0835 - val_loss: 0.0779\n",
            "Epoch 13/30\n",
            "\u001b[1m24/24\u001b[0m \u001b[32m━━━━━━━━━━━━━━━━━━━━\u001b[0m\u001b[37m\u001b[0m \u001b[1m0s\u001b[0m 12ms/step - loss: 0.0876 - val_loss: 0.0784\n",
            "Epoch 14/30\n",
            "\u001b[1m24/24\u001b[0m \u001b[32m━━━━━━━━━━━━━━━━━━━━\u001b[0m\u001b[37m\u001b[0m \u001b[1m0s\u001b[0m 13ms/step - loss: 0.0864 - val_loss: 0.0786\n",
            "Epoch 15/30\n",
            "\u001b[1m24/24\u001b[0m \u001b[32m━━━━━━━━━━━━━━━━━━━━\u001b[0m\u001b[37m\u001b[0m \u001b[1m0s\u001b[0m 13ms/step - loss: 0.0810 - val_loss: 0.0777\n",
            "Epoch 16/30\n",
            "\u001b[1m24/24\u001b[0m \u001b[32m━━━━━━━━━━━━━━━━━━━━\u001b[0m\u001b[37m\u001b[0m \u001b[1m0s\u001b[0m 13ms/step - loss: 0.0838 - val_loss: 0.0783\n",
            "Epoch 17/30\n",
            "\u001b[1m24/24\u001b[0m \u001b[32m━━━━━━━━━━━━━━━━━━━━\u001b[0m\u001b[37m\u001b[0m \u001b[1m0s\u001b[0m 13ms/step - loss: 0.0818 - val_loss: 0.0782\n",
            "Epoch 18/30\n",
            "\u001b[1m24/24\u001b[0m \u001b[32m━━━━━━━━━━━━━━━━━━━━\u001b[0m\u001b[37m\u001b[0m \u001b[1m0s\u001b[0m 13ms/step - loss: 0.0847 - val_loss: 0.0778\n",
            "Epoch 19/30\n",
            "\u001b[1m24/24\u001b[0m \u001b[32m━━━━━━━━━━━━━━━━━━━━\u001b[0m\u001b[37m\u001b[0m \u001b[1m0s\u001b[0m 13ms/step - loss: 0.0830 - val_loss: 0.0787\n",
            "Epoch 20/30\n",
            "\u001b[1m24/24\u001b[0m \u001b[32m━━━━━━━━━━━━━━━━━━━━\u001b[0m\u001b[37m\u001b[0m \u001b[1m0s\u001b[0m 13ms/step - loss: 0.0823 - val_loss: 0.0777\n",
            "Epoch 21/30\n",
            "\u001b[1m24/24\u001b[0m \u001b[32m━━━━━━━━━━━━━━━━━━━━\u001b[0m\u001b[37m\u001b[0m \u001b[1m1s\u001b[0m 22ms/step - loss: 0.0781 - val_loss: 0.0779\n",
            "Epoch 22/30\n",
            "\u001b[1m24/24\u001b[0m \u001b[32m━━━━━━━━━━━━━━━━━━━━\u001b[0m\u001b[37m\u001b[0m \u001b[1m1s\u001b[0m 20ms/step - loss: 0.0833 - val_loss: 0.0778\n",
            "Epoch 23/30\n",
            "\u001b[1m24/24\u001b[0m \u001b[32m━━━━━━━━━━━━━━━━━━━━\u001b[0m\u001b[37m\u001b[0m \u001b[1m1s\u001b[0m 22ms/step - loss: 0.0863 - val_loss: 0.0836\n",
            "Epoch 24/30\n",
            "\u001b[1m24/24\u001b[0m \u001b[32m━━━━━━━━━━━━━━━━━━━━\u001b[0m\u001b[37m\u001b[0m \u001b[1m1s\u001b[0m 21ms/step - loss: 0.0834 - val_loss: 0.0778\n",
            "Epoch 25/30\n",
            "\u001b[1m24/24\u001b[0m \u001b[32m━━━━━━━━━━━━━━━━━━━━\u001b[0m\u001b[37m\u001b[0m \u001b[1m1s\u001b[0m 28ms/step - loss: 0.0791 - val_loss: 0.0777\n",
            "Epoch 26/30\n",
            "\u001b[1m24/24\u001b[0m \u001b[32m━━━━━━━━━━━━━━━━━━━━\u001b[0m\u001b[37m\u001b[0m \u001b[1m1s\u001b[0m 22ms/step - loss: 0.0821 - val_loss: 0.0781\n",
            "Epoch 27/30\n",
            "\u001b[1m24/24\u001b[0m \u001b[32m━━━━━━━━━━━━━━━━━━━━\u001b[0m\u001b[37m\u001b[0m \u001b[1m1s\u001b[0m 24ms/step - loss: 0.0800 - val_loss: 0.0783\n",
            "Epoch 28/30\n",
            "\u001b[1m24/24\u001b[0m \u001b[32m━━━━━━━━━━━━━━━━━━━━\u001b[0m\u001b[37m\u001b[0m \u001b[1m0s\u001b[0m 15ms/step - loss: 0.0812 - val_loss: 0.0784\n",
            "Epoch 29/30\n",
            "\u001b[1m24/24\u001b[0m \u001b[32m━━━━━━━━━━━━━━━━━━━━\u001b[0m\u001b[37m\u001b[0m \u001b[1m0s\u001b[0m 14ms/step - loss: 0.0804 - val_loss: 0.0781\n",
            "Epoch 30/30\n",
            "\u001b[1m24/24\u001b[0m \u001b[32m━━━━━━━━━━━━━━━━━━━━\u001b[0m\u001b[37m\u001b[0m \u001b[1m0s\u001b[0m 15ms/step - loss: 0.0808 - val_loss: 0.0785\n",
            "\u001b[1m8/8\u001b[0m \u001b[32m━━━━━━━━━━━━━━━━━━━━\u001b[0m\u001b[37m\u001b[0m \u001b[1m1s\u001b[0m 53ms/step\n",
            "LSTM-Only Model MAE: 0.2712\n"
          ]
        }
      ],
      "source": [
        "# ========================\n",
        "# ✅ 4. LSTM-Only Model\n",
        "# ========================\n",
        "\n",
        "# Step 1: Define LSTM Model\n",
        "input_layer = Input(shape=(X_train.shape[1], X_train.shape[2]), name=\"lstm_input\")\n",
        "\n",
        "# LSTM Layers\n",
        "x = LSTM(128, return_sequences=True, name=\"lstm_layer\")(input_layer)\n",
        "x = Dropout(0.2)(x)  # Dropout after LSTM layer for regularization\n",
        "x = LSTM(64, return_sequences=False, name=\"lstm_20\")(x)\n",
        "\n",
        "# Dense layers\n",
        "x = Dense(16, activation=\"relu\")(x)\n",
        "output_layer = Dense(1)(x)\n",
        "\n",
        "# Compile Model\n",
        "lstm_model = Model(inputs=input_layer, outputs=output_layer)\n",
        "lstm_model.compile(loss=\"mse\", optimizer=Adam(learning_rate=0.001))\n",
        "\n",
        "# Train LSTM Model\n",
        "lstm_model.fit(X_train, y_train, epochs=30, batch_size=32, validation_split=0.2, verbose=1)\n",
        "\n",
        "# Predict with LSTM\n",
        "y_pred_lstm = lstm_model.predict(X_test).flatten()\n",
        "\n",
        "# Evaluate\n",
        "mae_lstm = mean_absolute_error(y_test, y_pred_lstm)\n",
        "print(f\"LSTM-Only Model MAE: {mae_lstm:.4f}\")\n",
        "\n"
      ]
    },
    {
      "cell_type": "code",
      "execution_count": 36,
      "metadata": {},
      "outputs": [
        {
          "name": "stdout",
          "output_type": "stream",
          "text": [
            "\u001b[1m30/30\u001b[0m \u001b[32m━━━━━━━━━━━━━━━━━━━━\u001b[0m\u001b[37m\u001b[0m \u001b[1m0s\u001b[0m 4ms/step\n",
            "\u001b[1m8/8\u001b[0m \u001b[32m━━━━━━━━━━━━━━━━━━━━\u001b[0m\u001b[37m\u001b[0m \u001b[1m0s\u001b[0m 39ms/step\n",
            "Final LSTM Feature Shape (Train): (960, 64)\n",
            "Final LSTM Feature Shape (Test): (240, 64)\n",
            "Hybrid Model (LSTM + XGBoost) MAE: 0.2699\n"
          ]
        }
      ],
      "source": [
        "# ========================\n",
        "# ✅ 5. Hybrid Approach (XGBoost + LSTM)\n",
        "# ========================\n",
        "\n",
        "# Extract Features from the FINAL LSTM layer\n",
        "feature_extractor = Model(inputs=lstm_model.input, outputs=lstm_model.get_layer(\"lstm_20\").output)\n",
        "\n",
        "# Forward Pass to Extract Features\n",
        "lstm_features_train = feature_extractor.predict(X_train)\n",
        "lstm_features_test = feature_extractor.predict(X_test)\n",
        "\n",
        "# Reshape extracted features to 2D for XGBoost\n",
        "X_train_lstm = lstm_features_train.reshape(lstm_features_train.shape[0], -1)\n",
        "X_test_lstm = lstm_features_test.reshape(lstm_features_test.shape[0], -1)\n",
        "\n",
        "print(\"Final LSTM Feature Shape (Train):\", X_train_lstm.shape)\n",
        "print(\"Final LSTM Feature Shape (Test):\", X_test_lstm.shape)\n",
        "\n",
        "# Define Hybrid XGBoost Model\n",
        "xgb_model_hybrid = xgb.XGBRegressor(\n",
        "    objective=\"reg:squarederror\",\n",
        "    n_estimators=400,\n",
        "    learning_rate=0.04,\n",
        "    max_depth=6,\n",
        "    subsample=0.9,\n",
        "    colsample_bytree=0.9,\n",
        "    random_state=42\n",
        ")\n",
        "\n",
        "# Train XGBoost on LSTM Features\n",
        "xgb_model_hybrid.fit(X_train_lstm, y_train)\n",
        "\n",
        "# Predict with Hybrid Model\n",
        "y_pred_hybrid = xgb_model_hybrid.predict(X_test_lstm)\n",
        "\n",
        "# Evaluate\n",
        "mae_hybrid = mean_absolute_error(y_test, y_pred_hybrid)\n",
        "print(f\"Hybrid Model (LSTM + XGBoost) MAE: {mae_hybrid:.4f}\")\n",
        "\n"
      ]
    },
    {
      "cell_type": "code",
      "execution_count": 37,
      "metadata": {},
      "outputs": [
        {
          "name": "stdout",
          "output_type": "stream",
          "text": [
            "\n",
            "💡 **Performance Comparison:**\n",
            "📌 XGBoost-Only MAE: 0.2738\n",
            "📌 LSTM-Only MAE: 0.2712\n",
            "📌 Hybrid (LSTM + XGBoost) MAE: 0.2699\n"
          ]
        }
      ],
      "source": [
        "\n",
        "# ========================\n",
        "# ✅ 6. Compare Performance\n",
        "# ========================\n",
        "print(\"\\n💡 **Performance Comparison:**\")\n",
        "print(f\"📌 XGBoost-Only MAE: {mae_xgb:.4f}\")\n",
        "print(f\"📌 LSTM-Only MAE: {mae_lstm:.4f}\")\n",
        "print(f\"📌 Hybrid (LSTM + XGBoost) MAE: {mae_hybrid:.4f}\")\n"
      ]
    },
    {
      "cell_type": "code",
      "execution_count": null,
      "metadata": {},
      "outputs": [],
      "source": []
    },
    {
      "cell_type": "code",
      "execution_count": 39,
      "metadata": {},
      "outputs": [
        {
          "name": "stdout",
          "output_type": "stream",
          "text": [
            "                Close       High        Low       Open     Volume\n",
            "Date                                                             \n",
            "2015-01-02  24.320423  24.789792  23.879972  24.778669  212818400\n",
            "2015-01-05  23.635284  24.169164  23.448427  24.089082  257142000\n",
            "2015-01-06  23.637506  23.897772  23.274912  23.699792  263188400\n",
            "2015-01-07  23.968962  24.069063  23.735389  23.846614  160423600\n",
            "2015-01-08  24.889910  24.947747  24.180294  24.298194  237458000\n",
            "<class 'pandas.core.frame.DataFrame'>\n",
            "DatetimeIndex: 2264 entries, 2015-01-02 to 2023-12-29\n",
            "Data columns (total 5 columns):\n",
            " #   Column  Non-Null Count  Dtype  \n",
            "---  ------  --------------  -----  \n",
            " 0   Close   2264 non-null   float64\n",
            " 1   High    2264 non-null   float64\n",
            " 2   Low     2264 non-null   float64\n",
            " 3   Open    2264 non-null   float64\n",
            " 4   Volume  2264 non-null   int64  \n",
            "dtypes: float64(4), int64(1)\n",
            "memory usage: 106.1 KB\n",
            "None\n"
          ]
        }
      ],
      "source": [
        "# ==============================\n",
        "# ✅ 1. Import Required Libraries\n",
        "# ==============================\n",
        "import numpy as np\n",
        "import pandas as pd\n",
        "import tensorflow as tf\n",
        "from tensorflow.keras.models import Model\n",
        "from tensorflow.keras.layers import LSTM, Dense, Dropout, Input\n",
        "from tensorflow.keras.optimizers import Adam\n",
        "import xgboost as xgb\n",
        "from sklearn.preprocessing import MinMaxScaler\n",
        "from sklearn.metrics import mean_absolute_error\n",
        "from sklearn.model_selection import train_test_split\n",
        "\n",
        "# ==============================\n",
        "# ✅ 2. Load and Preprocess Data\n",
        "# ==============================\n",
        "\n",
        "# Load dataset, skipping the first 3 rows\n",
        "df = pd.read_csv(\"AAPL_stock_data.csv\", skiprows=3, header=None)\n",
        "\n",
        "# Manually define correct column names\n",
        "df.columns = [\"Date\", \"Close\", \"High\", \"Low\", \"Open\", \"Volume\"]\n",
        "\n",
        "# Convert 'Date' to datetime format (YYYY-MM-DD format detected)\n",
        "df[\"Date\"] = pd.to_datetime(df[\"Date\"], format=\"%Y-%m-%d\")\n",
        "\n",
        "# Set 'Date' as index\n",
        "df.set_index(\"Date\", inplace=True)\n",
        "\n",
        "# Display first few rows\n",
        "print(df.head())\n",
        "print(df.info()) \n",
        "\n",
        "\n"
      ]
    },
    {
      "cell_type": "code",
      "execution_count": 49,
      "metadata": {},
      "outputs": [
        {
          "name": "stdout",
          "output_type": "stream",
          "text": [
            "               Close      High       Low      Open    Volume    SMA_10  \\\n",
            "Date                                                                     \n",
            "2023-12-22  0.974564  0.976417  0.977154  0.983982  0.020927  0.986673   \n",
            "2023-12-26  0.971463  0.967902  0.976361  0.975127  0.007796  0.986600   \n",
            "2023-12-27  0.972027  0.965717  0.966497  0.968810  0.038477  0.985720   \n",
            "2023-12-28  0.974452  0.972215  0.978288  0.978116  0.016008  0.983250   \n",
            "2023-12-29  0.968530  0.970759  0.970125  0.976762  0.029739  0.980103   \n",
            "\n",
            "              SMA_50    EMA_10  Volatility        RSI      MACD  Signal_Line  \n",
            "Date                                                                          \n",
            "2023-12-22  0.927791  0.982220    0.010211  59.246149  0.014991     0.018419  \n",
            "2023-12-26  0.929419  0.980264    0.010328  49.031984  0.013121     0.017359  \n",
            "2023-12-27  0.931073  0.978766    0.011212  52.291541  0.011552     0.016198  \n",
            "2023-12-28  0.932953  0.977982    0.010629  47.920482  0.010384     0.015035  \n",
            "2023-12-29  0.934861  0.976263    0.009741  40.185209  0.008879     0.013804  \n"
          ]
        }
      ],
      "source": [
        "# Moving Averages\n",
        "df[\"SMA_10\"] = df[\"Close\"].rolling(window=10).mean()\n",
        "df[\"SMA_50\"] = df[\"Close\"].rolling(window=50).mean()\n",
        "\n",
        "# Exponential Moving Average\n",
        "df[\"EMA_10\"] = df[\"Close\"].ewm(span=10, adjust=False).mean()\n",
        "\n",
        "# Volatility (Rolling Standard Deviation)\n",
        "df[\"Volatility\"] = df[\"Close\"].rolling(window=10).std()\n",
        "\n",
        "# Relative Strength Index (RSI)\n",
        "def compute_rsi(series, window=14):\n",
        "    delta = series.diff()\n",
        "    gain = (delta.where(delta > 0, 0)).rolling(window=window).mean()\n",
        "    loss = (-delta.where(delta < 0, 0)).rolling(window=window).mean()\n",
        "    rs = gain / loss\n",
        "    return 100 - (100 / (1 + rs))\n",
        "\n",
        "df[\"RSI\"] = compute_rsi(df[\"Close\"], 14)\n",
        "\n",
        "# MACD (Moving Average Convergence Divergence)\n",
        "df[\"EMA_12\"] = df[\"Close\"].ewm(span=12, adjust=False).mean()\n",
        "df[\"EMA_26\"] = df[\"Close\"].ewm(span=26, adjust=False).mean()\n",
        "df[\"MACD\"] = df[\"EMA_12\"] - df[\"EMA_26\"]\n",
        "df[\"Signal_Line\"] = df[\"MACD\"].ewm(span=9, adjust=False).mean()\n",
        "\n",
        "# Drop unnecessary columns\n",
        "df.drop(columns=[\"EMA_12\", \"EMA_26\"], inplace=True)\n",
        "\n",
        " # Check the new features\n",
        "df = df.sort_index()\n",
        "print(df.tail()) "
      ]
    },
    {
      "cell_type": "code",
      "execution_count": 50,
      "metadata": {},
      "outputs": [],
      "source": [
        "# Moving Averages\n",
        "df[\"SMA_10\"] = df[\"Close\"].rolling(window=10).mean()\n",
        "df[\"SMA_50\"] = df[\"Close\"].rolling(window=50).mean()\n",
        "\n",
        "# Exponential Moving Average\n",
        "df[\"EMA_10\"] = df[\"Close\"].ewm(span=10, adjust=False).mean()\n",
        "\n",
        "# Volatility (Rolling Standard Deviation)\n",
        "df[\"Volatility\"] = df[\"Close\"].rolling(window=10).std()\n",
        "\n",
        "# Relative Strength Index (RSI)\n",
        "def compute_rsi(series, window=14):\n",
        "    delta = series.diff()\n",
        "    gain = (delta.where(delta > 0, 0)).rolling(window=window).mean()\n",
        "    loss = (-delta.where(delta < 0, 0)).rolling(window=window).mean()\n",
        "    rs = gain / loss\n",
        "    return 100 - (100 / (1 + rs))\n",
        "\n",
        "df[\"RSI\"] = compute_rsi(df[\"Close\"], 14)\n",
        "\n",
        "# MACD (Moving Average Convergence Divergence)\n",
        "df[\"EMA_12\"] = df[\"Close\"].ewm(span=12, adjust=False).mean()\n",
        "df[\"EMA_26\"] = df[\"Close\"].ewm(span=26, adjust=False).mean()\n",
        "df[\"MACD\"] = df[\"EMA_12\"] - df[\"EMA_26\"]\n",
        "df[\"Signal_Line\"] = df[\"MACD\"].ewm(span=9, adjust=False).mean()\n",
        "\n",
        "# Drop unnecessary columns\n",
        "df.drop(columns=[\"EMA_12\", \"EMA_26\"], inplace=True)\n",
        "\n",
        "# Drop rows with NaN values caused by rolling calculations\n",
        "df.dropna(inplace=True)\n",
        "\n",
        "# Normalize data\n",
        "scaler = MinMaxScaler()\n",
        "feature_columns = [\"Close\", \"High\", \"Low\", \"Open\", \"Volume\", \"SMA_10\", \"SMA_50\", \"EMA_10\", \"Volatility\", \"RSI\", \"MACD\", \"Signal_Line\"]\n",
        "df[feature_columns] = scaler.fit_transform(df[feature_columns])\n",
        "\n",
        "# Define target variable (next day's Close price)\n",
        "target = \"Close\"\n"
      ]
    },
    {
      "cell_type": "code",
      "execution_count": 51,
      "metadata": {},
      "outputs": [],
      "source": [
        "def create_sequences(data, target_column, seq_length=10):\n",
        "    X, y = [], []\n",
        "    for i in range(len(data) - seq_length):\n",
        "        X.append(data.iloc[i:i+seq_length].values)\n",
        "        y.append(data.iloc[i+seq_length][target_column])\n",
        "    return np.array(X), np.array(y)\n",
        "\n",
        "# Create sequences\n",
        "sequence_length = 10\n",
        "X, y = create_sequences(df[feature_columns], target, sequence_length)\n",
        "\n",
        "# Train-test split (80-20)\n",
        "X_train, X_test, y_train, y_test = train_test_split(X, y, test_size=0.2, shuffle=False)\n"
      ]
    },
    {
      "cell_type": "code",
      "execution_count": 52,
      "metadata": {},
      "outputs": [
        {
          "name": "stdout",
          "output_type": "stream",
          "text": [
            "XGBoost MAE: 0.0407\n"
          ]
        }
      ],
      "source": [
        "# Reshape X for XGBoost\n",
        "X_train_xgb = X_train.reshape(X_train.shape[0], -1)\n",
        "X_test_xgb = X_test.reshape(X_test.shape[0], -1)\n",
        "\n",
        "# Initialize and train XGBoost model\n",
        "xgb_model = xgb.XGBRegressor(\n",
        "    objective=\"reg:squarederror\",\n",
        "    n_estimators=500,\n",
        "    learning_rate=0.03,\n",
        "    max_depth=7,\n",
        "    subsample=0.9,\n",
        "    colsample_bytree=0.9,\n",
        "    random_state=42\n",
        ")\n",
        "\n",
        "xgb_model.fit(X_train_xgb, y_train)\n",
        "\n",
        "# Predict and evaluate\n",
        "y_pred_xgb = xgb_model.predict(X_test_xgb)\n",
        "mae_xgb = mean_absolute_error(y_test, y_pred_xgb)\n",
        "print(f\"XGBoost MAE: {mae_xgb:.4f}\")\n"
      ]
    },
    {
      "cell_type": "code",
      "execution_count": 53,
      "metadata": {},
      "outputs": [
        {
          "name": "stdout",
          "output_type": "stream",
          "text": [
            "Epoch 1/30\n"
          ]
        },
        {
          "name": "stderr",
          "output_type": "stream",
          "text": [
            "c:\\Users\\Sakshi\\Anaconda3\\envs\\tf_env\\lib\\site-packages\\keras\\src\\layers\\rnn\\rnn.py:200: UserWarning: Do not pass an `input_shape`/`input_dim` argument to a layer. When using Sequential models, prefer using an `Input(shape)` object as the first layer in the model instead.\n",
            "  super().__init__(**kwargs)\n"
          ]
        },
        {
          "name": "stdout",
          "output_type": "stream",
          "text": [
            "\u001b[1m44/44\u001b[0m \u001b[32m━━━━━━━━━━━━━━━━━━━━\u001b[0m\u001b[37m\u001b[0m \u001b[1m4s\u001b[0m 24ms/step - loss: 0.0104 - val_loss: 0.0025\n",
            "Epoch 2/30\n",
            "\u001b[1m44/44\u001b[0m \u001b[32m━━━━━━━━━━━━━━━━━━━━\u001b[0m\u001b[37m\u001b[0m \u001b[1m1s\u001b[0m 18ms/step - loss: 7.1264e-04 - val_loss: 0.0037\n",
            "Epoch 3/30\n",
            "\u001b[1m44/44\u001b[0m \u001b[32m━━━━━━━━━━━━━━━━━━━━\u001b[0m\u001b[37m\u001b[0m \u001b[1m1s\u001b[0m 14ms/step - loss: 3.1391e-04 - val_loss: 0.0019\n",
            "Epoch 4/30\n",
            "\u001b[1m44/44\u001b[0m \u001b[32m━━━━━━━━━━━━━━━━━━━━\u001b[0m\u001b[37m\u001b[0m \u001b[1m1s\u001b[0m 20ms/step - loss: 4.9940e-04 - val_loss: 0.0041\n",
            "Epoch 5/30\n",
            "\u001b[1m44/44\u001b[0m \u001b[32m━━━━━━━━━━━━━━━━━━━━\u001b[0m\u001b[37m\u001b[0m \u001b[1m1s\u001b[0m 18ms/step - loss: 3.5126e-04 - val_loss: 0.0026\n",
            "Epoch 6/30\n",
            "\u001b[1m44/44\u001b[0m \u001b[32m━━━━━━━━━━━━━━━━━━━━\u001b[0m\u001b[37m\u001b[0m \u001b[1m1s\u001b[0m 16ms/step - loss: 2.8049e-04 - val_loss: 0.0014\n",
            "Epoch 7/30\n",
            "\u001b[1m44/44\u001b[0m \u001b[32m━━━━━━━━━━━━━━━━━━━━\u001b[0m\u001b[37m\u001b[0m \u001b[1m1s\u001b[0m 13ms/step - loss: 4.1995e-04 - val_loss: 0.0040\n",
            "Epoch 8/30\n",
            "\u001b[1m44/44\u001b[0m \u001b[32m━━━━━━━━━━━━━━━━━━━━\u001b[0m\u001b[37m\u001b[0m \u001b[1m1s\u001b[0m 17ms/step - loss: 4.0216e-04 - val_loss: 0.0035\n",
            "Epoch 9/30\n",
            "\u001b[1m44/44\u001b[0m \u001b[32m━━━━━━━━━━━━━━━━━━━━\u001b[0m\u001b[37m\u001b[0m \u001b[1m1s\u001b[0m 17ms/step - loss: 2.9306e-04 - val_loss: 0.0027\n",
            "Epoch 10/30\n",
            "\u001b[1m44/44\u001b[0m \u001b[32m━━━━━━━━━━━━━━━━━━━━\u001b[0m\u001b[37m\u001b[0m \u001b[1m1s\u001b[0m 14ms/step - loss: 2.2116e-04 - val_loss: 0.0015\n",
            "Epoch 11/30\n",
            "\u001b[1m44/44\u001b[0m \u001b[32m━━━━━━━━━━━━━━━━━━━━\u001b[0m\u001b[37m\u001b[0m \u001b[1m1s\u001b[0m 19ms/step - loss: 2.7494e-04 - val_loss: 0.0010\n",
            "Epoch 12/30\n",
            "\u001b[1m44/44\u001b[0m \u001b[32m━━━━━━━━━━━━━━━━━━━━\u001b[0m\u001b[37m\u001b[0m \u001b[1m1s\u001b[0m 18ms/step - loss: 4.0769e-04 - val_loss: 0.0031\n",
            "Epoch 13/30\n",
            "\u001b[1m44/44\u001b[0m \u001b[32m━━━━━━━━━━━━━━━━━━━━\u001b[0m\u001b[37m\u001b[0m \u001b[1m1s\u001b[0m 11ms/step - loss: 2.5748e-04 - val_loss: 0.0023\n",
            "Epoch 14/30\n",
            "\u001b[1m44/44\u001b[0m \u001b[32m━━━━━━━━━━━━━━━━━━━━\u001b[0m\u001b[37m\u001b[0m \u001b[1m1s\u001b[0m 11ms/step - loss: 3.0747e-04 - val_loss: 0.0019\n",
            "Epoch 15/30\n",
            "\u001b[1m44/44\u001b[0m \u001b[32m━━━━━━━━━━━━━━━━━━━━\u001b[0m\u001b[37m\u001b[0m \u001b[1m1s\u001b[0m 13ms/step - loss: 4.1209e-04 - val_loss: 0.0044\n",
            "Epoch 16/30\n",
            "\u001b[1m44/44\u001b[0m \u001b[32m━━━━━━━━━━━━━━━━━━━━\u001b[0m\u001b[37m\u001b[0m \u001b[1m1s\u001b[0m 15ms/step - loss: 1.9241e-04 - val_loss: 0.0019\n",
            "Epoch 17/30\n",
            "\u001b[1m44/44\u001b[0m \u001b[32m━━━━━━━━━━━━━━━━━━━━\u001b[0m\u001b[37m\u001b[0m \u001b[1m1s\u001b[0m 13ms/step - loss: 2.2703e-04 - val_loss: 0.0020\n",
            "Epoch 18/30\n",
            "\u001b[1m44/44\u001b[0m \u001b[32m━━━━━━━━━━━━━━━━━━━━\u001b[0m\u001b[37m\u001b[0m \u001b[1m1s\u001b[0m 15ms/step - loss: 3.0246e-04 - val_loss: 0.0011\n",
            "Epoch 19/30\n",
            "\u001b[1m44/44\u001b[0m \u001b[32m━━━━━━━━━━━━━━━━━━━━\u001b[0m\u001b[37m\u001b[0m \u001b[1m1s\u001b[0m 13ms/step - loss: 2.5098e-04 - val_loss: 0.0064\n",
            "Epoch 20/30\n",
            "\u001b[1m44/44\u001b[0m \u001b[32m━━━━━━━━━━━━━━━━━━━━\u001b[0m\u001b[37m\u001b[0m \u001b[1m1s\u001b[0m 13ms/step - loss: 2.2761e-04 - val_loss: 0.0011\n",
            "Epoch 21/30\n",
            "\u001b[1m44/44\u001b[0m \u001b[32m━━━━━━━━━━━━━━━━━━━━\u001b[0m\u001b[37m\u001b[0m \u001b[1m1s\u001b[0m 13ms/step - loss: 1.8388e-04 - val_loss: 0.0047\n",
            "Epoch 22/30\n",
            "\u001b[1m44/44\u001b[0m \u001b[32m━━━━━━━━━━━━━━━━━━━━\u001b[0m\u001b[37m\u001b[0m \u001b[1m1s\u001b[0m 13ms/step - loss: 2.1705e-04 - val_loss: 0.0017\n",
            "Epoch 23/30\n",
            "\u001b[1m44/44\u001b[0m \u001b[32m━━━━━━━━━━━━━━━━━━━━\u001b[0m\u001b[37m\u001b[0m \u001b[1m1s\u001b[0m 13ms/step - loss: 2.2519e-04 - val_loss: 0.0023\n",
            "Epoch 24/30\n",
            "\u001b[1m44/44\u001b[0m \u001b[32m━━━━━━━━━━━━━━━━━━━━\u001b[0m\u001b[37m\u001b[0m \u001b[1m1s\u001b[0m 14ms/step - loss: 2.0834e-04 - val_loss: 0.0066\n",
            "Epoch 25/30\n",
            "\u001b[1m44/44\u001b[0m \u001b[32m━━━━━━━━━━━━━━━━━━━━\u001b[0m\u001b[37m\u001b[0m \u001b[1m1s\u001b[0m 16ms/step - loss: 3.1655e-04 - val_loss: 0.0042\n",
            "Epoch 26/30\n",
            "\u001b[1m44/44\u001b[0m \u001b[32m━━━━━━━━━━━━━━━━━━━━\u001b[0m\u001b[37m\u001b[0m \u001b[1m1s\u001b[0m 12ms/step - loss: 2.5692e-04 - val_loss: 0.0027\n",
            "Epoch 27/30\n",
            "\u001b[1m44/44\u001b[0m \u001b[32m━━━━━━━━━━━━━━━━━━━━\u001b[0m\u001b[37m\u001b[0m \u001b[1m1s\u001b[0m 12ms/step - loss: 1.9218e-04 - val_loss: 0.0024\n",
            "Epoch 28/30\n",
            "\u001b[1m44/44\u001b[0m \u001b[32m━━━━━━━━━━━━━━━━━━━━\u001b[0m\u001b[37m\u001b[0m \u001b[1m1s\u001b[0m 13ms/step - loss: 2.1573e-04 - val_loss: 0.0024\n",
            "Epoch 29/30\n",
            "\u001b[1m44/44\u001b[0m \u001b[32m━━━━━━━━━━━━━━━━━━━━\u001b[0m\u001b[37m\u001b[0m \u001b[1m1s\u001b[0m 13ms/step - loss: 1.5187e-04 - val_loss: 0.0013\n",
            "Epoch 30/30\n",
            "\u001b[1m44/44\u001b[0m \u001b[32m━━━━━━━━━━━━━━━━━━━━\u001b[0m\u001b[37m\u001b[0m \u001b[1m1s\u001b[0m 15ms/step - loss: 1.7807e-04 - val_loss: 0.0043\n",
            "\u001b[1m14/14\u001b[0m \u001b[32m━━━━━━━━━━━━━━━━━━━━\u001b[0m\u001b[37m\u001b[0m \u001b[1m1s\u001b[0m 24ms/step\n",
            "LSTM MAE: 0.0882\n"
          ]
        }
      ],
      "source": [
        "# ==============================\n",
        "# ✅ 4. LSTM-Only Model\n",
        "# ==============================\n",
        "\n",
        "# Define LSTM Model\n",
        "lstm_model = Sequential([\n",
        "    LSTM(128, return_sequences=True, input_shape=(X_train.shape[1], X_train.shape[2])),\n",
        "    LSTM(64, return_sequences=False),\n",
        "    Dropout(0.1),\n",
        "    Dense(16, activation=\"relu\"),\n",
        "    Dense(1)\n",
        "])\n",
        "\n",
        "lstm_model.compile(loss=\"mse\", optimizer=Adam(learning_rate=0.001))\n",
        "\n",
        "# Train LSTM\n",
        "lstm_model.fit(X_train, y_train, epochs=30, batch_size=32, validation_split=0.2, verbose=1)\n",
        "\n",
        "# Predict and evaluate\n",
        "y_pred_lstm = lstm_model.predict(X_test)\n",
        "mae_lstm = mean_absolute_error(y_test, y_pred_lstm)\n",
        "print(f\"LSTM MAE: {mae_lstm:.4f}\")\n"
      ]
    },
    {
      "cell_type": "code",
      "execution_count": 65,
      "metadata": {},
      "outputs": [
        {
          "data": {
            "text/html": [
              "<pre style=\"white-space:pre;overflow-x:auto;line-height:normal;font-family:Menlo,'DejaVu Sans Mono',consolas,'Courier New',monospace\"><span style=\"font-weight: bold\">Model: \"functional_10\"</span>\n",
              "</pre>\n"
            ],
            "text/plain": [
              "\u001b[1mModel: \"functional_10\"\u001b[0m\n"
            ]
          },
          "metadata": {},
          "output_type": "display_data"
        },
        {
          "data": {
            "text/html": [
              "<pre style=\"white-space:pre;overflow-x:auto;line-height:normal;font-family:Menlo,'DejaVu Sans Mono',consolas,'Courier New',monospace\">┏━━━━━━━━━━━━━━━━━━━━━━━━━━━━━━━━━┳━━━━━━━━━━━━━━━━━━━━━━━━┳━━━━━━━━━━━━━━━┓\n",
              "┃<span style=\"font-weight: bold\"> Layer (type)                    </span>┃<span style=\"font-weight: bold\"> Output Shape           </span>┃<span style=\"font-weight: bold\">       Param # </span>┃\n",
              "┡━━━━━━━━━━━━━━━━━━━━━━━━━━━━━━━━━╇━━━━━━━━━━━━━━━━━━━━━━━━╇━━━━━━━━━━━━━━━┩\n",
              "│ input_layer_5 (<span style=\"color: #0087ff; text-decoration-color: #0087ff\">InputLayer</span>)      │ (<span style=\"color: #00d7ff; text-decoration-color: #00d7ff\">None</span>, <span style=\"color: #00af00; text-decoration-color: #00af00\">10</span>, <span style=\"color: #00af00; text-decoration-color: #00af00\">12</span>)         │             <span style=\"color: #00af00; text-decoration-color: #00af00\">0</span> │\n",
              "├─────────────────────────────────┼────────────────────────┼───────────────┤\n",
              "│ lstm_9 (<span style=\"color: #0087ff; text-decoration-color: #0087ff\">LSTM</span>)                   │ (<span style=\"color: #00d7ff; text-decoration-color: #00d7ff\">None</span>, <span style=\"color: #00af00; text-decoration-color: #00af00\">10</span>, <span style=\"color: #00af00; text-decoration-color: #00af00\">50</span>)         │        <span style=\"color: #00af00; text-decoration-color: #00af00\">12,600</span> │\n",
              "├─────────────────────────────────┼────────────────────────┼───────────────┤\n",
              "│ lstm_10 (<span style=\"color: #0087ff; text-decoration-color: #0087ff\">LSTM</span>)                  │ (<span style=\"color: #00d7ff; text-decoration-color: #00d7ff\">None</span>, <span style=\"color: #00af00; text-decoration-color: #00af00\">50</span>)             │        <span style=\"color: #00af00; text-decoration-color: #00af00\">20,200</span> │\n",
              "├─────────────────────────────────┼────────────────────────┼───────────────┤\n",
              "│ dense_12 (<span style=\"color: #0087ff; text-decoration-color: #0087ff\">Dense</span>)                │ (<span style=\"color: #00d7ff; text-decoration-color: #00d7ff\">None</span>, <span style=\"color: #00af00; text-decoration-color: #00af00\">25</span>)             │         <span style=\"color: #00af00; text-decoration-color: #00af00\">1,275</span> │\n",
              "├─────────────────────────────────┼────────────────────────┼───────────────┤\n",
              "│ dense_13 (<span style=\"color: #0087ff; text-decoration-color: #0087ff\">Dense</span>)                │ (<span style=\"color: #00d7ff; text-decoration-color: #00d7ff\">None</span>, <span style=\"color: #00af00; text-decoration-color: #00af00\">1</span>)              │            <span style=\"color: #00af00; text-decoration-color: #00af00\">26</span> │\n",
              "└─────────────────────────────────┴────────────────────────┴───────────────┘\n",
              "</pre>\n"
            ],
            "text/plain": [
              "┏━━━━━━━━━━━━━━━━━━━━━━━━━━━━━━━━━┳━━━━━━━━━━━━━━━━━━━━━━━━┳━━━━━━━━━━━━━━━┓\n",
              "┃\u001b[1m \u001b[0m\u001b[1mLayer (type)                   \u001b[0m\u001b[1m \u001b[0m┃\u001b[1m \u001b[0m\u001b[1mOutput Shape          \u001b[0m\u001b[1m \u001b[0m┃\u001b[1m \u001b[0m\u001b[1m      Param #\u001b[0m\u001b[1m \u001b[0m┃\n",
              "┡━━━━━━━━━━━━━━━━━━━━━━━━━━━━━━━━━╇━━━━━━━━━━━━━━━━━━━━━━━━╇━━━━━━━━━━━━━━━┩\n",
              "│ input_layer_5 (\u001b[38;5;33mInputLayer\u001b[0m)      │ (\u001b[38;5;45mNone\u001b[0m, \u001b[38;5;34m10\u001b[0m, \u001b[38;5;34m12\u001b[0m)         │             \u001b[38;5;34m0\u001b[0m │\n",
              "├─────────────────────────────────┼────────────────────────┼───────────────┤\n",
              "│ lstm_9 (\u001b[38;5;33mLSTM\u001b[0m)                   │ (\u001b[38;5;45mNone\u001b[0m, \u001b[38;5;34m10\u001b[0m, \u001b[38;5;34m50\u001b[0m)         │        \u001b[38;5;34m12,600\u001b[0m │\n",
              "├─────────────────────────────────┼────────────────────────┼───────────────┤\n",
              "│ lstm_10 (\u001b[38;5;33mLSTM\u001b[0m)                  │ (\u001b[38;5;45mNone\u001b[0m, \u001b[38;5;34m50\u001b[0m)             │        \u001b[38;5;34m20,200\u001b[0m │\n",
              "├─────────────────────────────────┼────────────────────────┼───────────────┤\n",
              "│ dense_12 (\u001b[38;5;33mDense\u001b[0m)                │ (\u001b[38;5;45mNone\u001b[0m, \u001b[38;5;34m25\u001b[0m)             │         \u001b[38;5;34m1,275\u001b[0m │\n",
              "├─────────────────────────────────┼────────────────────────┼───────────────┤\n",
              "│ dense_13 (\u001b[38;5;33mDense\u001b[0m)                │ (\u001b[38;5;45mNone\u001b[0m, \u001b[38;5;34m1\u001b[0m)              │            \u001b[38;5;34m26\u001b[0m │\n",
              "└─────────────────────────────────┴────────────────────────┴───────────────┘\n"
            ]
          },
          "metadata": {},
          "output_type": "display_data"
        },
        {
          "data": {
            "text/html": [
              "<pre style=\"white-space:pre;overflow-x:auto;line-height:normal;font-family:Menlo,'DejaVu Sans Mono',consolas,'Courier New',monospace\"><span style=\"font-weight: bold\"> Total params: </span><span style=\"color: #00af00; text-decoration-color: #00af00\">34,101</span> (133.21 KB)\n",
              "</pre>\n"
            ],
            "text/plain": [
              "\u001b[1m Total params: \u001b[0m\u001b[38;5;34m34,101\u001b[0m (133.21 KB)\n"
            ]
          },
          "metadata": {},
          "output_type": "display_data"
        },
        {
          "data": {
            "text/html": [
              "<pre style=\"white-space:pre;overflow-x:auto;line-height:normal;font-family:Menlo,'DejaVu Sans Mono',consolas,'Courier New',monospace\"><span style=\"font-weight: bold\"> Trainable params: </span><span style=\"color: #00af00; text-decoration-color: #00af00\">34,101</span> (133.21 KB)\n",
              "</pre>\n"
            ],
            "text/plain": [
              "\u001b[1m Trainable params: \u001b[0m\u001b[38;5;34m34,101\u001b[0m (133.21 KB)\n"
            ]
          },
          "metadata": {},
          "output_type": "display_data"
        },
        {
          "data": {
            "text/html": [
              "<pre style=\"white-space:pre;overflow-x:auto;line-height:normal;font-family:Menlo,'DejaVu Sans Mono',consolas,'Courier New',monospace\"><span style=\"font-weight: bold\"> Non-trainable params: </span><span style=\"color: #00af00; text-decoration-color: #00af00\">0</span> (0.00 B)\n",
              "</pre>\n"
            ],
            "text/plain": [
              "\u001b[1m Non-trainable params: \u001b[0m\u001b[38;5;34m0\u001b[0m (0.00 B)\n"
            ]
          },
          "metadata": {},
          "output_type": "display_data"
        },
        {
          "name": "stdout",
          "output_type": "stream",
          "text": [
            "\u001b[1m54/54\u001b[0m \u001b[32m━━━━━━━━━━━━━━━━━━━━\u001b[0m\u001b[37m\u001b[0m \u001b[1m1s\u001b[0m 9ms/step\n",
            "\u001b[1m14/14\u001b[0m \u001b[32m━━━━━━━━━━━━━━━━━━━━\u001b[0m\u001b[37m\u001b[0m \u001b[1m0s\u001b[0m 5ms/step \n"
          ]
        }
      ],
      "source": [
        "from tensorflow.keras.models import Model\n",
        "from tensorflow.keras.layers import LSTM, Dense, Input\n",
        "\n",
        "# Define input explicitly using Functional API\n",
        "input_shape = (X_train.shape[1], X_train.shape[2])\n",
        "inputs = Input(shape=input_shape)\n",
        "\n",
        "x = LSTM(50, return_sequences=True)(inputs)\n",
        "x = LSTM(50, return_sequences=False)(x)\n",
        "lstm_features = Dense(25, activation='relu')(x)  # Extractable features\n",
        "outputs = Dense(1)(lstm_features)\n",
        "\n",
        "# Create the full LSTM model\n",
        "lstm_model = Model(inputs, outputs)\n",
        "\n",
        "# Compile and call the model once\n",
        "lstm_model.compile(optimizer='adam', loss='mse')\n",
        "lstm_model.summary()  # Debugging step\n",
        "\n",
        "# Now define feature extractor correctly\n",
        "feature_extractor = Model(inputs=lstm_model.input, outputs=lstm_features)\n",
        "\n",
        "# Extract LSTM features\n",
        "X_train_lstm_features = feature_extractor.predict(X_train)\n",
        "X_test_lstm_features = feature_extractor.predict(X_test)\n",
        "\n",
        "# Flatten features for XGBoost\n",
        "X_train_hybrid = X_train_lstm_features.reshape(X_train_lstm_features.shape[0], -1)\n",
        "X_test_hybrid = X_test_lstm_features.reshape(X_test_lstm_features.shape[0], -1)\n",
        "\n"
      ]
    },
    {
      "cell_type": "code",
      "execution_count": 66,
      "metadata": {},
      "outputs": [
        {
          "name": "stdout",
          "output_type": "stream",
          "text": [
            "<KerasTensor shape=(None, 10, 12), dtype=float32, sparse=False, ragged=False, name=keras_tensor_40>\n",
            "<KerasTensor shape=(None, 25), dtype=float32, sparse=False, ragged=False, name=keras_tensor_43>\n"
          ]
        }
      ],
      "source": [
        "print(lstm_model.input)\n",
        "print(lstm_model.layers[-2].output)\n"
      ]
    },
    {
      "cell_type": "code",
      "execution_count": 67,
      "metadata": {},
      "outputs": [
        {
          "name": "stdout",
          "output_type": "stream",
          "text": [
            "Epoch 1/30\n",
            "\u001b[1m44/44\u001b[0m \u001b[32m━━━━━━━━━━━━━━━━━━━━\u001b[0m\u001b[37m\u001b[0m \u001b[1m3s\u001b[0m 17ms/step - loss: 0.0071 - val_loss: 0.0080\n",
            "Epoch 2/30\n",
            "\u001b[1m44/44\u001b[0m \u001b[32m━━━━━━━━━━━━━━━━━━━━\u001b[0m\u001b[37m\u001b[0m \u001b[1m0s\u001b[0m 9ms/step - loss: 2.4719e-04 - val_loss: 0.0067\n",
            "Epoch 3/30\n",
            "\u001b[1m44/44\u001b[0m \u001b[32m━━━━━━━━━━━━━━━━━━━━\u001b[0m\u001b[37m\u001b[0m \u001b[1m0s\u001b[0m 8ms/step - loss: 2.4901e-04 - val_loss: 0.0029\n",
            "Epoch 4/30\n",
            "\u001b[1m44/44\u001b[0m \u001b[32m━━━━━━━━━━━━━━━━━━━━\u001b[0m\u001b[37m\u001b[0m \u001b[1m0s\u001b[0m 8ms/step - loss: 1.6993e-04 - val_loss: 0.0051\n",
            "Epoch 5/30\n",
            "\u001b[1m44/44\u001b[0m \u001b[32m━━━━━━━━━━━━━━━━━━━━\u001b[0m\u001b[37m\u001b[0m \u001b[1m0s\u001b[0m 9ms/step - loss: 1.4902e-04 - val_loss: 0.0026\n",
            "Epoch 6/30\n",
            "\u001b[1m44/44\u001b[0m \u001b[32m━━━━━━━━━━━━━━━━━━━━\u001b[0m\u001b[37m\u001b[0m \u001b[1m0s\u001b[0m 9ms/step - loss: 1.7047e-04 - val_loss: 0.0010\n",
            "Epoch 7/30\n",
            "\u001b[1m44/44\u001b[0m \u001b[32m━━━━━━━━━━━━━━━━━━━━\u001b[0m\u001b[37m\u001b[0m \u001b[1m0s\u001b[0m 9ms/step - loss: 2.1471e-04 - val_loss: 0.0018\n",
            "Epoch 8/30\n",
            "\u001b[1m44/44\u001b[0m \u001b[32m━━━━━━━━━━━━━━━━━━━━\u001b[0m\u001b[37m\u001b[0m \u001b[1m0s\u001b[0m 9ms/step - loss: 1.3607e-04 - val_loss: 0.0024\n",
            "Epoch 9/30\n",
            "\u001b[1m44/44\u001b[0m \u001b[32m━━━━━━━━━━━━━━━━━━━━\u001b[0m\u001b[37m\u001b[0m \u001b[1m0s\u001b[0m 10ms/step - loss: 1.4152e-04 - val_loss: 0.0017\n",
            "Epoch 10/30\n",
            "\u001b[1m44/44\u001b[0m \u001b[32m━━━━━━━━━━━━━━━━━━━━\u001b[0m\u001b[37m\u001b[0m \u001b[1m0s\u001b[0m 9ms/step - loss: 1.8298e-04 - val_loss: 9.8835e-04\n",
            "Epoch 11/30\n",
            "\u001b[1m44/44\u001b[0m \u001b[32m━━━━━━━━━━━━━━━━━━━━\u001b[0m\u001b[37m\u001b[0m \u001b[1m0s\u001b[0m 9ms/step - loss: 1.8833e-04 - val_loss: 8.8623e-04\n",
            "Epoch 12/30\n",
            "\u001b[1m44/44\u001b[0m \u001b[32m━━━━━━━━━━━━━━━━━━━━\u001b[0m\u001b[37m\u001b[0m \u001b[1m0s\u001b[0m 9ms/step - loss: 1.3396e-04 - val_loss: 0.0016\n",
            "Epoch 13/30\n",
            "\u001b[1m44/44\u001b[0m \u001b[32m━━━━━━━━━━━━━━━━━━━━\u001b[0m\u001b[37m\u001b[0m \u001b[1m0s\u001b[0m 9ms/step - loss: 1.2886e-04 - val_loss: 0.0026\n",
            "Epoch 14/30\n",
            "\u001b[1m44/44\u001b[0m \u001b[32m━━━━━━━━━━━━━━━━━━━━\u001b[0m\u001b[37m\u001b[0m \u001b[1m0s\u001b[0m 8ms/step - loss: 1.6175e-04 - val_loss: 0.0018\n",
            "Epoch 15/30\n",
            "\u001b[1m44/44\u001b[0m \u001b[32m━━━━━━━━━━━━━━━━━━━━\u001b[0m\u001b[37m\u001b[0m \u001b[1m0s\u001b[0m 8ms/step - loss: 1.3694e-04 - val_loss: 0.0027\n",
            "Epoch 16/30\n",
            "\u001b[1m44/44\u001b[0m \u001b[32m━━━━━━━━━━━━━━━━━━━━\u001b[0m\u001b[37m\u001b[0m \u001b[1m0s\u001b[0m 8ms/step - loss: 1.4903e-04 - val_loss: 0.0028\n",
            "Epoch 17/30\n",
            "\u001b[1m44/44\u001b[0m \u001b[32m━━━━━━━━━━━━━━━━━━━━\u001b[0m\u001b[37m\u001b[0m \u001b[1m0s\u001b[0m 8ms/step - loss: 1.5256e-04 - val_loss: 0.0015\n",
            "Epoch 18/30\n",
            "\u001b[1m44/44\u001b[0m \u001b[32m━━━━━━━━━━━━━━━━━━━━\u001b[0m\u001b[37m\u001b[0m \u001b[1m0s\u001b[0m 8ms/step - loss: 1.3184e-04 - val_loss: 0.0016\n",
            "Epoch 19/30\n",
            "\u001b[1m44/44\u001b[0m \u001b[32m━━━━━━━━━━━━━━━━━━━━\u001b[0m\u001b[37m\u001b[0m \u001b[1m0s\u001b[0m 9ms/step - loss: 1.3054e-04 - val_loss: 0.0021\n",
            "Epoch 20/30\n",
            "\u001b[1m44/44\u001b[0m \u001b[32m━━━━━━━━━━━━━━━━━━━━\u001b[0m\u001b[37m\u001b[0m \u001b[1m0s\u001b[0m 8ms/step - loss: 1.0830e-04 - val_loss: 0.0018\n",
            "Epoch 21/30\n",
            "\u001b[1m44/44\u001b[0m \u001b[32m━━━━━━━━━━━━━━━━━━━━\u001b[0m\u001b[37m\u001b[0m \u001b[1m0s\u001b[0m 8ms/step - loss: 1.1961e-04 - val_loss: 0.0013\n",
            "Epoch 22/30\n",
            "\u001b[1m44/44\u001b[0m \u001b[32m━━━━━━━━━━━━━━━━━━━━\u001b[0m\u001b[37m\u001b[0m \u001b[1m0s\u001b[0m 8ms/step - loss: 1.2282e-04 - val_loss: 0.0031\n",
            "Epoch 23/30\n",
            "\u001b[1m44/44\u001b[0m \u001b[32m━━━━━━━━━━━━━━━━━━━━\u001b[0m\u001b[37m\u001b[0m \u001b[1m0s\u001b[0m 8ms/step - loss: 1.0424e-04 - val_loss: 0.0035\n",
            "Epoch 24/30\n",
            "\u001b[1m44/44\u001b[0m \u001b[32m━━━━━━━━━━━━━━━━━━━━\u001b[0m\u001b[37m\u001b[0m \u001b[1m0s\u001b[0m 9ms/step - loss: 1.2819e-04 - val_loss: 0.0013\n",
            "Epoch 25/30\n",
            "\u001b[1m44/44\u001b[0m \u001b[32m━━━━━━━━━━━━━━━━━━━━\u001b[0m\u001b[37m\u001b[0m \u001b[1m0s\u001b[0m 10ms/step - loss: 1.5761e-04 - val_loss: 0.0016\n",
            "Epoch 26/30\n",
            "\u001b[1m44/44\u001b[0m \u001b[32m━━━━━━━━━━━━━━━━━━━━\u001b[0m\u001b[37m\u001b[0m \u001b[1m0s\u001b[0m 8ms/step - loss: 1.3424e-04 - val_loss: 0.0021\n",
            "Epoch 27/30\n",
            "\u001b[1m44/44\u001b[0m \u001b[32m━━━━━━━━━━━━━━━━━━━━\u001b[0m\u001b[37m\u001b[0m \u001b[1m0s\u001b[0m 8ms/step - loss: 1.3612e-04 - val_loss: 0.0017\n",
            "Epoch 28/30\n",
            "\u001b[1m44/44\u001b[0m \u001b[32m━━━━━━━━━━━━━━━━━━━━\u001b[0m\u001b[37m\u001b[0m \u001b[1m0s\u001b[0m 9ms/step - loss: 8.7992e-05 - val_loss: 0.0033\n",
            "Epoch 29/30\n",
            "\u001b[1m44/44\u001b[0m \u001b[32m━━━━━━━━━━━━━━━━━━━━\u001b[0m\u001b[37m\u001b[0m \u001b[1m0s\u001b[0m 10ms/step - loss: 1.4349e-04 - val_loss: 0.0026\n",
            "Epoch 30/30\n",
            "\u001b[1m44/44\u001b[0m \u001b[32m━━━━━━━━━━━━━━━━━━━━\u001b[0m\u001b[37m\u001b[0m \u001b[1m1s\u001b[0m 11ms/step - loss: 1.3598e-04 - val_loss: 0.0028\n",
            "\u001b[1m1/1\u001b[0m \u001b[32m━━━━━━━━━━━━━━━━━━━━\u001b[0m\u001b[37m\u001b[0m \u001b[1m0s\u001b[0m 268ms/step\n",
            "\u001b[1m54/54\u001b[0m \u001b[32m━━━━━━━━━━━━━━━━━━━━\u001b[0m\u001b[37m\u001b[0m \u001b[1m1s\u001b[0m 8ms/step\n",
            "\u001b[1m14/14\u001b[0m \u001b[32m━━━━━━━━━━━━━━━━━━━━\u001b[0m\u001b[37m\u001b[0m \u001b[1m0s\u001b[0m 4ms/step \n",
            "Hybrid Model MAE: 0.0457\n"
          ]
        }
      ],
      "source": [
        "from tensorflow.keras.models import Model\n",
        "\n",
        "# Ensure LSTM is trained before extracting features\n",
        "lstm_model.fit(X_train, y_train, epochs=30, batch_size=32, validation_split=0.2, verbose=1)\n",
        "\n",
        "# Call the model on a dummy input to initialize it\n",
        "_ = lstm_model.predict(X_train[:1])\n",
        "\n",
        "# Make sure the model is built before extracting features\n",
        "lstm_model.build(input_shape=(None, X_train.shape[1], X_train.shape[2]))\n",
        "\n",
        "# Now create the feature extractor\n",
        "feature_extractor = Model(inputs=lstm_model.input, outputs=lstm_model.layers[-2].output)\n",
        "\n",
        "# Extract features from LSTM\n",
        "X_train_lstm_features = feature_extractor.predict(X_train)\n",
        "X_test_lstm_features = feature_extractor.predict(X_test)\n",
        "\n",
        "# Flatten the extracted features for XGBoost\n",
        "X_train_hybrid = X_train_lstm_features.reshape(X_train_lstm_features.shape[0], -1)\n",
        "X_test_hybrid = X_test_lstm_features.reshape(X_test_lstm_features.shape[0], -1)\n",
        "\n",
        "# Train XGBoost on LSTM features\n",
        "xgb_hybrid = xgb.XGBRegressor(\n",
        "    objective=\"reg:squarederror\",\n",
        "    n_estimators=500,\n",
        "    learning_rate=0.03,\n",
        "    max_depth=7,\n",
        "    subsample=0.9,\n",
        "    colsample_bytree=0.9,\n",
        "    random_state=42\n",
        ")\n",
        "\n",
        "xgb_hybrid.fit(X_train_hybrid, y_train)\n",
        "\n",
        "# Predict and evaluate\n",
        "y_pred_hybrid = xgb_hybrid.predict(X_test_hybrid)\n",
        "mae_hybrid = mean_absolute_error(y_test, y_pred_hybrid)\n",
        "print(f\"Hybrid Model MAE: {mae_hybrid:.4f}\")\n"
      ]
    },
    {
      "cell_type": "code",
      "execution_count": 68,
      "metadata": {},
      "outputs": [
        {
          "name": "stdout",
          "output_type": "stream",
          "text": [
            "\u001b[1m54/54\u001b[0m \u001b[32m━━━━━━━━━━━━━━━━━━━━\u001b[0m\u001b[37m\u001b[0m \u001b[1m0s\u001b[0m 962us/step\n",
            "\u001b[1m14/14\u001b[0m \u001b[32m━━━━━━━━━━━━━━━━━━━━\u001b[0m\u001b[37m\u001b[0m \u001b[1m0s\u001b[0m 3ms/step \n",
            "Hybrid Model MAE: 0.0407\n"
          ]
        }
      ],
      "source": [
        "# Extract features from LSTM\n",
        "feature_extractor = Model(inputs=lstm_model.input, outputs=lstm_model.get_layer(index=0).output)\n",
        "X_train_lstm_features = feature_extractor.predict(X_train)\n",
        "X_test_lstm_features = feature_extractor.predict(X_test)\n",
        "\n",
        "# Flatten features for XGBoost\n",
        "X_train_hybrid = X_train_lstm_features.reshape(X_train_lstm_features.shape[0], -1)\n",
        "X_test_hybrid = X_test_lstm_features.reshape(X_test_lstm_features.shape[0], -1)\n",
        "\n",
        "# Train XGBoost on LSTM features\n",
        "xgb_hybrid = xgb.XGBRegressor(\n",
        "    objective=\"reg:squarederror\",\n",
        "    n_estimators=500,\n",
        "    learning_rate=0.03,\n",
        "    max_depth=7,\n",
        "    subsample=0.9,\n",
        "    colsample_bytree=0.9,\n",
        "    random_state=42\n",
        ")\n",
        "\n",
        "xgb_hybrid.fit(X_train_hybrid, y_train)\n",
        "\n",
        "# Predict and evaluate\n",
        "y_pred_hybrid = xgb_hybrid.predict(X_test_hybrid)\n",
        "mae_hybrid = mean_absolute_error(y_test, y_pred_hybrid)\n",
        "print(f\"Hybrid Model MAE: {mae_hybrid:.4f}\")\n"
      ]
    },
    {
      "cell_type": "code",
      "execution_count": 69,
      "metadata": {},
      "outputs": [
        {
          "name": "stdout",
          "output_type": "stream",
          "text": [
            "\n",
            "💡 **Performance Comparison:**\n",
            "📌 XGBoost-Only MAE: 0.0407\n",
            "📌 LSTM-Only MAE: 0.0882\n",
            "📌 Hybrid (LSTM + XGBoost) MAE: 0.0407\n"
          ]
        }
      ],
      "source": [
        "# ==============================\n",
        "# ✅ 6. Compare Performance\n",
        "# ==============================\n",
        "print(\"\\n💡 **Performance Comparison:**\")\n",
        "print(f\"📌 XGBoost-Only MAE: {mae_xgb:.4f}\")\n",
        "print(f\"📌 LSTM-Only MAE: {mae_lstm:.4f}\")\n",
        "print(f\"📌 Hybrid (LSTM + XGBoost) MAE: {mae_hybrid:.4f}\")\n"
      ]
    },
    {
      "cell_type": "code",
      "execution_count": null,
      "metadata": {},
      "outputs": [],
      "source": []
    }
  ],
  "metadata": {
    "accelerator": "GPU",
    "colab": {
      "gpuType": "T4",
      "provenance": []
    },
    "kernelspec": {
      "display_name": "tf_env",
      "language": "python",
      "name": "python3"
    },
    "language_info": {
      "codemirror_mode": {
        "name": "ipython",
        "version": 3
      },
      "file_extension": ".py",
      "mimetype": "text/x-python",
      "name": "python",
      "nbconvert_exporter": "python",
      "pygments_lexer": "ipython3",
      "version": "3.10.16"
    }
  },
  "nbformat": 4,
  "nbformat_minor": 0
}
